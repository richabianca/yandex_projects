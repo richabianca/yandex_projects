{
 "cells": [
  {
   "cell_type": "markdown",
   "metadata": {},
   "source": [
    "Hi Pedro. I'm Svetlana and will review your project. I've added all my comments to new cells with different coloring. Please don't delete my comments.\n",
    "\n",
    "\n",
    "The first time I see a mistake, I'll just point it out and let you find it and fix it yourself. In a real job, your boss will do the same, and I'm trying to prepare you to work as an Data Scientist. But if you can't handle this task yet , I'll give you a more accurate hint at the next check.\n",
    "\n",
    "<div class=\"alert alert-success\" role=\"alert\">\n",
    "Reviewer's comment v. 1:\n",
    "    \n",
    "If you did something great I'm using green color for my comment\n",
    "</div>\n",
    "\n",
    "<div class=\"alert alert-warning\" role=\"alert\">\n",
    "Reviewer's comment v. 1:\n",
    "    \n",
    "If I want to give you advice or think that something can be improved, then I'll use yellow. This is an optional recommendation.\n",
    "</div>\n",
    "\n",
    "<div class=\"alert alert-danger\" role=\"alert\">\n",
    "Reviewer's comment v. 1:\n",
    "    \n",
    "If the topic requires some extra work so I can accept it then the color will be red\n",
    "</div>\n",
    "\n",
    "## Review v. 1 <a class=\"tocSkip\">\n",
    "\n",
    "Thank you so much for submitting your project! While there's room for improvement, on the whole, your project is looking good. There are few things that need to be corrected in your project. They're mostly minor issues that are easy to fix. There are also some comments for improvement. They don’t mean that you’ve done anything wrong, but they’re things we wanted to point out that can help you further develop your skills. I believe you can easily fix it! \n",
    "\n",
    "## Review v. 2 <a class=\"tocSkip\">\n",
    "\n",
    "Your corrections look great, you've improved your work significantly! I'm glad to say that your project has been accepted. Keep up the good work, and good luck on the next sprint!"
   ]
  },
  {
   "cell_type": "markdown",
   "metadata": {},
   "source": [
    "<div class=\"alert alert-warning\" role=\"alert\">\n",
    "Reviewer's comment v. 1:\n",
    "    \n",
    "It will be nice to add a table of contents with links and a goal of the project.\n",
    "\n",
    "Please see for details: https://www.markdowntutorial.com/\n",
    "</div>"
   ]
  },
  {
   "cell_type": "markdown",
   "metadata": {},
   "source": [
    "# 1st Project Yandex Practicum Course \n",
    "## Credit worthiness\n",
    "### [Link for project discription](https://practicum.yandex.com/learn/data-scientist/courses/e57c3caa-8ca8-4f01-a9a3-cf0ec078529e/sprints/4247/topics/1b213493-2ce7-4849-ba9d-46959ee96516/lessons/88614f89-48f8-4ce4-9db3-4141dd4f56d9/)\n",
    "\n",
    "### Resume:\n",
    "- Find out if a customer’s marital status and number of children has an impact on whether they will default on a loan"
   ]
  },
  {
   "cell_type": "markdown",
   "metadata": {},
   "source": [
    "<div class=\"alert alert-warning\" role=\"alert\">\n",
    "Reviewer's comment v. 2:\n",
    "    \n",
    "Please see the following example. Sorry, but your link doesn't work.\n",
    "    \n",
    "# Table of contents\n",
    "1. [Introduction](#introduction)\n",
    "2. [Some paragraph](#paragraph1)\n",
    "    1. [Sub paragraph](#subparagraph1)\n",
    "3. [Another paragraph](#paragraph2)\n",
    "    \n",
    "## This is the introduction <a name=\"introduction\"></a>\n",
    "Some introduction text, formatted in heading 2 style\n",
    "    \n",
    "## Some paragraph <a name=\"paragraph1\"></a>\n",
    "The first paragraph text### Sub paragraph <a name=\"subparagraph1\"></a>\n",
    "This is a sub paragraph, formatted in heading 3 style\n",
    "    \n",
    "## Another paragraph <a name=\"paragraph2\"></a>\n",
    "The second paragraph text\n",
    "</div>"
   ]
  },
  {
   "cell_type": "markdown",
   "metadata": {},
   "source": [
    "# Step 1.\n",
    "\n",
    "Open the data file /datasets/credit_scoring_eng.csv and have a look at the general information. "
   ]
  },
  {
   "cell_type": "code",
   "execution_count": 1,
   "metadata": {},
   "outputs": [
    {
     "output_type": "error",
     "ename": "ModuleNotFoundError",
     "evalue": "No module named 'nltk'",
     "traceback": [
      "\u001b[0;31m---------------------------------------------------------------------------\u001b[0m",
      "\u001b[0;31mModuleNotFoundError\u001b[0m                       Traceback (most recent call last)",
      "\u001b[0;32m<ipython-input-1-fee280c68d0b>\u001b[0m in \u001b[0;36m<module>\u001b[0;34m\u001b[0m\n\u001b[1;32m      1\u001b[0m \u001b[0;32mimport\u001b[0m \u001b[0mpandas\u001b[0m \u001b[0;32mas\u001b[0m \u001b[0mpd\u001b[0m\u001b[0;34m\u001b[0m\u001b[0;34m\u001b[0m\u001b[0m\n\u001b[0;32m----> 2\u001b[0;31m \u001b[0;32mfrom\u001b[0m \u001b[0mnltk\u001b[0m\u001b[0;34m.\u001b[0m\u001b[0mstem\u001b[0m \u001b[0;32mimport\u001b[0m \u001b[0mSnowballStemmer\u001b[0m\u001b[0;34m\u001b[0m\u001b[0;34m\u001b[0m\u001b[0m\n\u001b[0m\u001b[1;32m      3\u001b[0m \u001b[0;34m\u001b[0m\u001b[0m\n\u001b[1;32m      4\u001b[0m \u001b[0;32mtry\u001b[0m\u001b[0;34m:\u001b[0m\u001b[0;34m\u001b[0m\u001b[0;34m\u001b[0m\u001b[0m\n\u001b[1;32m      5\u001b[0m     \u001b[0mcredit_data\u001b[0m \u001b[0;34m=\u001b[0m \u001b[0mpd\u001b[0m\u001b[0;34m.\u001b[0m\u001b[0mread_csv\u001b[0m\u001b[0;34m(\u001b[0m\u001b[0;34m'credit_scoring_eng.csv'\u001b[0m\u001b[0;34m)\u001b[0m\u001b[0;34m\u001b[0m\u001b[0;34m\u001b[0m\u001b[0m\n",
      "\u001b[0;31mModuleNotFoundError\u001b[0m: No module named 'nltk'"
     ]
    }
   ],
   "source": [
    "import pandas as pd\n",
    "from nltk.stem import SnowballStemmer\n",
    "\n",
    "try:\n",
    "    credit_data = pd.read_csv('credit_scoring_eng.csv')\n",
    "except:\n",
    "    credit_data = pd.read_csv('/datasets/credit_scoring_eng.csv') "
   ]
  },
  {
   "cell_type": "markdown",
   "metadata": {},
   "source": [
    "<div class=\"alert alert-success\" role=\"alert\">\n",
    "Reviewer's comment v. 1:\n",
    "    \n",
    "Well done for using try-except for the path to the file.\n",
    "</div>"
   ]
  },
  {
   "cell_type": "code",
   "execution_count": 2,
   "metadata": {},
   "outputs": [
    {
     "data": {
      "text/html": [
       "<div>\n",
       "<style scoped>\n",
       "    .dataframe tbody tr th:only-of-type {\n",
       "        vertical-align: middle;\n",
       "    }\n",
       "\n",
       "    .dataframe tbody tr th {\n",
       "        vertical-align: top;\n",
       "    }\n",
       "\n",
       "    .dataframe thead th {\n",
       "        text-align: right;\n",
       "    }\n",
       "</style>\n",
       "<table border=\"1\" class=\"dataframe\">\n",
       "  <thead>\n",
       "    <tr style=\"text-align: right;\">\n",
       "      <th></th>\n",
       "      <th>children</th>\n",
       "      <th>days_employed</th>\n",
       "      <th>dob_years</th>\n",
       "      <th>education</th>\n",
       "      <th>education_id</th>\n",
       "      <th>family_status</th>\n",
       "      <th>family_status_id</th>\n",
       "      <th>gender</th>\n",
       "      <th>income_type</th>\n",
       "      <th>debt</th>\n",
       "      <th>total_income</th>\n",
       "      <th>purpose</th>\n",
       "    </tr>\n",
       "  </thead>\n",
       "  <tbody>\n",
       "    <tr>\n",
       "      <td>0</td>\n",
       "      <td>1</td>\n",
       "      <td>-8437.673028</td>\n",
       "      <td>42</td>\n",
       "      <td>bachelor's degree</td>\n",
       "      <td>0</td>\n",
       "      <td>married</td>\n",
       "      <td>0</td>\n",
       "      <td>F</td>\n",
       "      <td>employee</td>\n",
       "      <td>0</td>\n",
       "      <td>40620.102</td>\n",
       "      <td>purchase of the house</td>\n",
       "    </tr>\n",
       "    <tr>\n",
       "      <td>1</td>\n",
       "      <td>1</td>\n",
       "      <td>-4024.803754</td>\n",
       "      <td>36</td>\n",
       "      <td>secondary education</td>\n",
       "      <td>1</td>\n",
       "      <td>married</td>\n",
       "      <td>0</td>\n",
       "      <td>F</td>\n",
       "      <td>employee</td>\n",
       "      <td>0</td>\n",
       "      <td>17932.802</td>\n",
       "      <td>car purchase</td>\n",
       "    </tr>\n",
       "    <tr>\n",
       "      <td>2</td>\n",
       "      <td>0</td>\n",
       "      <td>-5623.422610</td>\n",
       "      <td>33</td>\n",
       "      <td>Secondary Education</td>\n",
       "      <td>1</td>\n",
       "      <td>married</td>\n",
       "      <td>0</td>\n",
       "      <td>M</td>\n",
       "      <td>employee</td>\n",
       "      <td>0</td>\n",
       "      <td>23341.752</td>\n",
       "      <td>purchase of the house</td>\n",
       "    </tr>\n",
       "    <tr>\n",
       "      <td>3</td>\n",
       "      <td>3</td>\n",
       "      <td>-4124.747207</td>\n",
       "      <td>32</td>\n",
       "      <td>secondary education</td>\n",
       "      <td>1</td>\n",
       "      <td>married</td>\n",
       "      <td>0</td>\n",
       "      <td>M</td>\n",
       "      <td>employee</td>\n",
       "      <td>0</td>\n",
       "      <td>42820.568</td>\n",
       "      <td>supplementary education</td>\n",
       "    </tr>\n",
       "    <tr>\n",
       "      <td>4</td>\n",
       "      <td>0</td>\n",
       "      <td>340266.072047</td>\n",
       "      <td>53</td>\n",
       "      <td>secondary education</td>\n",
       "      <td>1</td>\n",
       "      <td>civil partnership</td>\n",
       "      <td>1</td>\n",
       "      <td>F</td>\n",
       "      <td>retiree</td>\n",
       "      <td>0</td>\n",
       "      <td>25378.572</td>\n",
       "      <td>to have a wedding</td>\n",
       "    </tr>\n",
       "    <tr>\n",
       "      <td>5</td>\n",
       "      <td>0</td>\n",
       "      <td>-926.185831</td>\n",
       "      <td>27</td>\n",
       "      <td>bachelor's degree</td>\n",
       "      <td>0</td>\n",
       "      <td>civil partnership</td>\n",
       "      <td>1</td>\n",
       "      <td>M</td>\n",
       "      <td>business</td>\n",
       "      <td>0</td>\n",
       "      <td>40922.170</td>\n",
       "      <td>purchase of the house</td>\n",
       "    </tr>\n",
       "    <tr>\n",
       "      <td>6</td>\n",
       "      <td>0</td>\n",
       "      <td>-2879.202052</td>\n",
       "      <td>43</td>\n",
       "      <td>bachelor's degree</td>\n",
       "      <td>0</td>\n",
       "      <td>married</td>\n",
       "      <td>0</td>\n",
       "      <td>F</td>\n",
       "      <td>business</td>\n",
       "      <td>0</td>\n",
       "      <td>38484.156</td>\n",
       "      <td>housing transactions</td>\n",
       "    </tr>\n",
       "    <tr>\n",
       "      <td>7</td>\n",
       "      <td>0</td>\n",
       "      <td>-152.779569</td>\n",
       "      <td>50</td>\n",
       "      <td>SECONDARY EDUCATION</td>\n",
       "      <td>1</td>\n",
       "      <td>married</td>\n",
       "      <td>0</td>\n",
       "      <td>M</td>\n",
       "      <td>employee</td>\n",
       "      <td>0</td>\n",
       "      <td>21731.829</td>\n",
       "      <td>education</td>\n",
       "    </tr>\n",
       "    <tr>\n",
       "      <td>8</td>\n",
       "      <td>2</td>\n",
       "      <td>-6929.865299</td>\n",
       "      <td>35</td>\n",
       "      <td>BACHELOR'S DEGREE</td>\n",
       "      <td>0</td>\n",
       "      <td>civil partnership</td>\n",
       "      <td>1</td>\n",
       "      <td>F</td>\n",
       "      <td>employee</td>\n",
       "      <td>0</td>\n",
       "      <td>15337.093</td>\n",
       "      <td>having a wedding</td>\n",
       "    </tr>\n",
       "    <tr>\n",
       "      <td>9</td>\n",
       "      <td>0</td>\n",
       "      <td>-2188.756445</td>\n",
       "      <td>41</td>\n",
       "      <td>secondary education</td>\n",
       "      <td>1</td>\n",
       "      <td>married</td>\n",
       "      <td>0</td>\n",
       "      <td>M</td>\n",
       "      <td>employee</td>\n",
       "      <td>0</td>\n",
       "      <td>23108.150</td>\n",
       "      <td>purchase of the house for my family</td>\n",
       "    </tr>\n",
       "  </tbody>\n",
       "</table>\n",
       "</div>"
      ],
      "text/plain": [
       "   children  days_employed  dob_years            education  education_id  \\\n",
       "0         1   -8437.673028         42    bachelor's degree             0   \n",
       "1         1   -4024.803754         36  secondary education             1   \n",
       "2         0   -5623.422610         33  Secondary Education             1   \n",
       "3         3   -4124.747207         32  secondary education             1   \n",
       "4         0  340266.072047         53  secondary education             1   \n",
       "5         0    -926.185831         27    bachelor's degree             0   \n",
       "6         0   -2879.202052         43    bachelor's degree             0   \n",
       "7         0    -152.779569         50  SECONDARY EDUCATION             1   \n",
       "8         2   -6929.865299         35    BACHELOR'S DEGREE             0   \n",
       "9         0   -2188.756445         41  secondary education             1   \n",
       "\n",
       "       family_status  family_status_id gender income_type  debt  total_income  \\\n",
       "0            married                 0      F    employee     0     40620.102   \n",
       "1            married                 0      F    employee     0     17932.802   \n",
       "2            married                 0      M    employee     0     23341.752   \n",
       "3            married                 0      M    employee     0     42820.568   \n",
       "4  civil partnership                 1      F     retiree     0     25378.572   \n",
       "5  civil partnership                 1      M    business     0     40922.170   \n",
       "6            married                 0      F    business     0     38484.156   \n",
       "7            married                 0      M    employee     0     21731.829   \n",
       "8  civil partnership                 1      F    employee     0     15337.093   \n",
       "9            married                 0      M    employee     0     23108.150   \n",
       "\n",
       "                               purpose  \n",
       "0                purchase of the house  \n",
       "1                         car purchase  \n",
       "2                purchase of the house  \n",
       "3              supplementary education  \n",
       "4                    to have a wedding  \n",
       "5                purchase of the house  \n",
       "6                 housing transactions  \n",
       "7                            education  \n",
       "8                     having a wedding  \n",
       "9  purchase of the house for my family  "
      ]
     },
     "execution_count": 2,
     "metadata": {},
     "output_type": "execute_result"
    }
   ],
   "source": [
    "credit_data.head(10)"
   ]
  },
  {
   "cell_type": "code",
   "execution_count": 3,
   "metadata": {},
   "outputs": [
    {
     "name": "stdout",
     "output_type": "stream",
     "text": [
      "<class 'pandas.core.frame.DataFrame'>\n",
      "RangeIndex: 21525 entries, 0 to 21524\n",
      "Data columns (total 12 columns):\n",
      "children            21525 non-null int64\n",
      "days_employed       19351 non-null float64\n",
      "dob_years           21525 non-null int64\n",
      "education           21525 non-null object\n",
      "education_id        21525 non-null int64\n",
      "family_status       21525 non-null object\n",
      "family_status_id    21525 non-null int64\n",
      "gender              21525 non-null object\n",
      "income_type         21525 non-null object\n",
      "debt                21525 non-null int64\n",
      "total_income        19351 non-null float64\n",
      "purpose             21525 non-null object\n",
      "dtypes: float64(2), int64(5), object(5)\n",
      "memory usage: 2.0+ MB\n"
     ]
    }
   ],
   "source": [
    "credit_data.info()"
   ]
  },
  {
   "cell_type": "markdown",
   "metadata": {},
   "source": [
    "## Analyse data\n",
    "- We can see that we have a table with 12 columns each column provides info related to members that ask for a credit.\n",
    "- Also we can manage to see which Data type each column haves in their entries"
   ]
  },
  {
   "cell_type": "markdown",
   "metadata": {},
   "source": [
    "<div class=\"alert alert-danger\" role=\"alert\">\n",
    "Reviewer's comment v. 1:\n",
    "    \n",
    "Please add headings \"Step 1. Open the data file, Step 2. Preprocess the data and so on\".\n",
    "</div>"
   ]
  },
  {
   "cell_type": "markdown",
   "metadata": {},
   "source": [
    "<div class=\"alert alert-success\" role=\"alert\">\n",
    "Reviewer's comment v. 2:\n",
    "    \n",
    "Well done that you added headings to the project :)\n",
    "</div>"
   ]
  },
  {
   "cell_type": "markdown",
   "metadata": {},
   "source": [
    "# Step 2. Preprocess the data\n",
    "\n",
    "- Identify and fill in missing values\n",
    "- Replace the real number data type with the integer type\n",
    "- Delete duplicate data\n",
    "- Categorize the data"
   ]
  },
  {
   "cell_type": "code",
   "execution_count": 4,
   "metadata": {},
   "outputs": [
    {
     "data": {
      "text/plain": [
       "children               0\n",
       "days_employed       2174\n",
       "dob_years              0\n",
       "education              0\n",
       "education_id           0\n",
       "family_status          0\n",
       "family_status_id       0\n",
       "gender                 0\n",
       "income_type            0\n",
       "debt                   0\n",
       "total_income        2174\n",
       "purpose                0\n",
       "dtype: int64"
      ]
     },
     "execution_count": 4,
     "metadata": {},
     "output_type": "execute_result"
    }
   ],
   "source": [
    "credit_data.isnull().sum() #count missing values"
   ]
  },
  {
   "cell_type": "code",
   "execution_count": 5,
   "metadata": {},
   "outputs": [],
   "source": [
    "total_income_avg = credit_data['total_income'].mean()"
   ]
  },
  {
   "cell_type": "code",
   "execution_count": 6,
   "metadata": {},
   "outputs": [],
   "source": [
    "#fill missing values with 0 \n",
    "credit_data['days_employed'] = credit_data['days_employed'].fillna(value=0) \n",
    "#fill missing values with average income of customers \n",
    "credit_data['total_income'] = credit_data['total_income'].fillna(value=total_income_avg) "
   ]
  },
  {
   "cell_type": "markdown",
   "metadata": {},
   "source": [
    "## Processing Missing values\n",
    "\n",
    "- I wasn't able to figure out a pattern in the missing data, therefore I assumed that the that missing was completely at random (MCAR). Possible causes can go from human error to lack of information when individual members applied for a credit.\n",
    "- For total_income I decided to substitute missing values with the column average. Since missing values correspond to 10% of the total data, I considered that average on the population for this makes sense. Even considering that maximum and minimum results are considerably distant, for this type of analysis I didn't consider that would make an impact. \n",
    "- For days_employed I decided to substitue the missing values by 0 since is a column that I did not use in my code."
   ]
  },
  {
   "cell_type": "markdown",
   "metadata": {},
   "source": [
    "<div class=\"alert alert-danger\" role=\"alert\">\n",
    "Reviewer's comment v. 1:\n",
    "    \n",
    "Could you please explain a possible reasons of a missing values? Why have decided decided to substitute for the column average?\n",
    "    \n",
    "Additional links: https://jakevdp.github.io/PythonDataScienceHandbook/03.04-missing-values.html, https://thispointer.com/python-pandas-count-number-of-nan-or-missing-values-in-dataframe-also-row-column-wise/,\n",
    "https://www.geeksforgeeks.org/working-with-missing-data-in-pandas/\n",
    "</div>"
   ]
  },
  {
   "cell_type": "markdown",
   "metadata": {},
   "source": [
    "<div class=\"alert alert-success\" role=\"alert\">\n",
    "Reviewer's comment v. 2:\n",
    "    \n",
    "Ok, a reasonable explanations :)\n",
    "</div>"
   ]
  },
  {
   "cell_type": "code",
   "execution_count": 7,
   "metadata": {},
   "outputs": [],
   "source": [
    "credit_data = credit_data.astype({'days_employed':'int', 'total_income':'int'}) #transforming real numbers into integer"
   ]
  },
  {
   "cell_type": "code",
   "execution_count": 8,
   "metadata": {},
   "outputs": [],
   "source": [
    "credit_data['education'] = credit_data['education'].str.lower() #transform string in lower case\n",
    "credit_data['purpose'] = credit_data['purpose'].str.lower() #transform string in lower case"
   ]
  },
  {
   "cell_type": "markdown",
   "metadata": {},
   "source": [
    "<div class=\"alert alert-success\" role=\"alert\">\n",
    "Reviewer's comment v. 1:\n",
    "    \n",
    "It's great that you bring columns to the lower case. This can be important when we checking for duplicates.\n",
    "</div>"
   ]
  },
  {
   "cell_type": "code",
   "execution_count": 9,
   "metadata": {},
   "outputs": [
    {
     "name": "stdout",
     "output_type": "stream",
     "text": [
      "['graduate degree', 'some college', \"bachelor's degree\", 'primary education', 'secondary education']\n"
     ]
    }
   ],
   "source": [
    "#get to know education list\n",
    "print(list(set(credit_data['education']))) "
   ]
  },
  {
   "cell_type": "code",
   "execution_count": 10,
   "metadata": {},
   "outputs": [
    {
     "name": "stdout",
     "output_type": "stream",
     "text": [
      "['housing transactions', 'buy real estate', 'to get a supplementary education', 'property', 'going to university', 'buying property for renting out', 'having a wedding', 'purchase of my own house', 'real estate transactions', 'car', 'to own a car', 'to become educated', 'to have a wedding', 'wedding ceremony', 'supplementary education', 'car purchase', 'to buy a car', 'transactions with my real estate', 'second-hand car purchase', 'purchase of a car', 'building a property', 'buy commercial real estate', 'education', 'purchase of the house', 'housing', 'building a real estate', 'buying my own car', 'buying a second-hand car', 'cars', 'getting higher education', 'university education', 'purchase of the house for my family', 'housing renovation', 'getting an education', 'buy residential real estate', 'construction of own property', 'transactions with commercial real estate', 'profile education']\n"
     ]
    }
   ],
   "source": [
    "#get to know purpose list\n",
    "print(list(set(credit_data['purpose'])))"
   ]
  },
  {
   "cell_type": "code",
   "execution_count": 11,
   "metadata": {},
   "outputs": [
    {
     "name": "stdout",
     "output_type": "stream",
     "text": [
      "['unmarried', 'divorced', 'widow / widower', 'civil partnership', 'married']\n"
     ]
    }
   ],
   "source": [
    "#get to know family list\n",
    "print(list(set(credit_data['family_status'])))"
   ]
  },
  {
   "cell_type": "code",
   "execution_count": 12,
   "metadata": {},
   "outputs": [
    {
     "name": "stdout",
     "output_type": "stream",
     "text": [
      "['paternity / maternity leave', 'entrepreneur', 'retiree', 'business', 'unemployed', 'student', 'employee', 'civil servant']\n"
     ]
    }
   ],
   "source": [
    "#get to know income type list\n",
    "print(list(set(credit_data['income_type'])))"
   ]
  },
  {
   "cell_type": "code",
   "execution_count": 13,
   "metadata": {},
   "outputs": [
    {
     "name": "stdout",
     "output_type": "stream",
     "text": [
      "educ\n",
      "unvers\n",
      "car\n",
      "porperti\n",
      "estat\n",
      "hous\n",
      "wed\n",
      "primari\n",
      "secondari\n",
      "busine\n",
      "entrepreneur\n",
      "servant\n",
      "divorc\n",
      "unmarri\n",
      "partnership\n"
     ]
    }
   ],
   "source": [
    "from nltk.stem import SnowballStemmer\n",
    "english_stemmer = SnowballStemmer('english')\n",
    "\n",
    "#define keywords to deal with duplicates \n",
    "words_purpose = ['education','unversity','car','porperty','estate','house','wedding', 'primary', 'secondary', 'businee', \n",
    "                 'entrepreneur', 'servant', 'divorced', 'unmarried', 'partnership']\n",
    "for word in words_purpose:\n",
    "    print(english_stemmer.stem(word))"
   ]
  },
  {
   "cell_type": "code",
   "execution_count": 14,
   "metadata": {},
   "outputs": [],
   "source": [
    "#function to treat duplicate in education column\n",
    "def keyword_stem_education (query):\n",
    "    for word in query.split(' '):\n",
    "        stemmed_word = english_stemmer.stem(word)\n",
    "        if stemmed_word == 'primari':\n",
    "            return 'primary'\n",
    "        if stemmed_word == 'secondari':\n",
    "            return 'secondary'\n",
    "\n",
    "    return 'university'"
   ]
  },
  {
   "cell_type": "code",
   "execution_count": 15,
   "metadata": {},
   "outputs": [],
   "source": [
    "#function to treat duplicate in purpose column\n",
    "def keyword_stem_purpose (query):\n",
    "    for word in query.split(' '):\n",
    "        stemmed_word = english_stemmer.stem(word)\n",
    "        if stemmed_word == 'educ' or stemmed_word == 'univers':\n",
    "            return 'education'\n",
    "        if stemmed_word == 'car':\n",
    "            return 'car'\n",
    "        if stemmed_word == 'properti' or stemmed_word == 'estat' or stemmed_word == 'hous':\n",
    "            return 'house'\n",
    "        if stemmed_word == 'wed':\n",
    "            return 'wedding'\n",
    "\n",
    "    return 'other'"
   ]
  },
  {
   "cell_type": "code",
   "execution_count": 16,
   "metadata": {},
   "outputs": [],
   "source": [
    "#function to treat duplicate in income type column\n",
    "def keyword_stem_income (query):\n",
    "    for word in query.split(' '):\n",
    "        stemmed_word = english_stemmer.stem(word)\n",
    "        if stemmed_word == 'busine' or stemmed_word == 'entrepreneur':\n",
    "            return 'business'\n",
    "        if stemmed_word == 'servant':\n",
    "            return 'employee'\n",
    "\n",
    "    return query"
   ]
  },
  {
   "cell_type": "code",
   "execution_count": 17,
   "metadata": {},
   "outputs": [],
   "source": [
    "# pull functions to treat duplicates keywords\n",
    "credit_data['purpose_id'] = credit_data['purpose'].apply(keyword_stem_purpose)\n",
    "credit_data['education_id'] = credit_data['education'].apply(keyword_stem_education)\n",
    "credit_data['income_id'] = credit_data['income_type'].apply(keyword_stem_income)"
   ]
  },
  {
   "cell_type": "code",
   "execution_count": 18,
   "metadata": {},
   "outputs": [],
   "source": [
    "credit_data_upd = credit_data.drop(['education', 'purpose', 'income_type'], axis=1)"
   ]
  },
  {
   "cell_type": "code",
   "execution_count": 19,
   "metadata": {},
   "outputs": [],
   "source": [
    "credit_data_upd.loc[credit_data_upd['children'] == -1, 'children'] = 1 #convert children -1 to 1 and consider as a typo"
   ]
  },
  {
   "cell_type": "code",
   "execution_count": 20,
   "metadata": {},
   "outputs": [],
   "source": [
    "credit_data_upd.loc[credit_data_upd['children'] == 20, 'children'] = 2 #convert children 20 to 2 and consider as a typo"
   ]
  },
  {
   "cell_type": "markdown",
   "metadata": {},
   "source": [
    "<div class=\"alert alert-danger\" role=\"alert\">\n",
    "Reviewer's comment v. 1:\n",
    "    \n",
    "Could you please describe an anomalies in data? What is a possible reasons of it?\n",
    "</div>"
   ]
  },
  {
   "cell_type": "markdown",
   "metadata": {},
   "source": [
    "## Anomalies in data\n",
    "\n",
    "- In this database one two anomalies pop up in the children column. We have members with **-1** value and others with **20**. \n",
    "    - For the **-1** it could be more than one possible cause, lack of information how to read the data, and therefore not knowing what **-1** meands for the bank. Another possible cause could be a typo. For this project I assumed that **-1** was members that had underage children that they are already reach adult age. Therefore I transformed the **-1** into **1** because I do believe that still makes a correlation between having children and not repaying a loan in time. Our data doesn't provide information of when (time related field) the member stop paying their loan therefore I couldn't assume that was when the children was underage or already adults.\n",
    "    - For the **20** I assumed as input typo, and considered it as human error. Therefore I change **20** children to **2** children per member.\n",
    "- Another inconsistency in the data was **purpose** column, that allows for any type of entry. Where I decided to use stemming method to make new data categorizatin column that was based on the column **purpose** (also explaineed in the markdown **To get to know my data better**)"
   ]
  },
  {
   "cell_type": "markdown",
   "metadata": {},
   "source": [
    "<div class=\"alert alert-success\" role=\"alert\">\n",
    "Reviewer's comment v. 2:\n",
    "    \n",
    "Yes, you can also change \"-1\" and \"20\" values to \"1\" and \"2\", respectively. It looks like a misprints.\n",
    "</div>"
   ]
  },
  {
   "cell_type": "code",
   "execution_count": 21,
   "metadata": {},
   "outputs": [
    {
     "data": {
      "text/plain": [
       "455"
      ]
     },
     "execution_count": 21,
     "metadata": {},
     "output_type": "execute_result"
    }
   ],
   "source": [
    "credit_data_upd.duplicated().sum() #count number duplicates"
   ]
  },
  {
   "cell_type": "code",
   "execution_count": 22,
   "metadata": {},
   "outputs": [],
   "source": [
    "credit_data_upd = credit_data_upd.drop_duplicates(keep='last') #delete duplicates"
   ]
  },
  {
   "cell_type": "code",
   "execution_count": 23,
   "metadata": {},
   "outputs": [
    {
     "data": {
      "text/plain": [
       "0"
      ]
     },
     "execution_count": 23,
     "metadata": {},
     "output_type": "execute_result"
    }
   ],
   "source": [
    "credit_data_upd.duplicated().sum()  #confirm that I don't have duplicates"
   ]
  },
  {
   "cell_type": "markdown",
   "metadata": {},
   "source": [
    "## To get to know my data better\n",
    "- I decided to standardize the float entries to int and make my strings all lower cases to be more easy to search for key words using the stemming method in order to create new data categorization columns. Also treated some typos in the children column to new values. After this treatment I felt comfortable deleting the duplicates."
   ]
  },
  {
   "cell_type": "markdown",
   "metadata": {},
   "source": [
    "<div class=\"alert alert-success\" role=\"alert\">\n",
    "Reviewer's comment v. 2:\n",
    "    \n",
    "Well done for using the stemming method.\n",
    "    \n",
    "Maybe this link will be interesting for you: https://stackabuse.com/python-for-nlp-tokenization-stemming-and-lemmatization-with-spacy-library/ \n",
    "</div>"
   ]
  },
  {
   "cell_type": "markdown",
   "metadata": {},
   "source": [
    "# Step 3. Answer these questions:\n",
    "\n",
    "- Is there a connection between having kids and repaying a loan on time?\n",
    "- Is there a connection between marital status and repaying a loan on time?\n",
    "- Is there a connection between income level and repaying a loan on time?\n",
    "- How do different loan purposes affect on-time loan repayment?"
   ]
  },
  {
   "cell_type": "code",
   "execution_count": 2,
   "metadata": {},
   "outputs": [],
   "source": [
    "#built function to transform my data table into a table that allows me to read \n",
    "#properly the data in order to answer the questions asked\n",
    "\n",
    "def table_transf (table,a,b,c): # a, b, c are columns names \n",
    "\n",
    "    new_table = table.groupby(by=[a,b]).count()\n",
    "    new_table = new_table[[c]]\n",
    "    new_table = new_table.rename(columns = {c : 'members'})\n",
    "    new_table['ratio by total count(%)'] = (new_table['members'] / new_table['members'].sum()*100).round(2)\n",
    "    x = new_table.groupby([a,b])['members'].sum()\n",
    "    y = new_table.groupby([a])['members'].sum()\n",
    "    new_table['ratio by categoy(%)'] = (x / y * 100).round(2)\n",
    "    print(new_table)"
   ]
  },
  {
   "cell_type": "code",
   "execution_count": 25,
   "metadata": {},
   "outputs": [
    {
     "name": "stdout",
     "output_type": "stream",
     "text": [
      "               members  ratio by total count(%)  ratio by categoy(%)\n",
      "children debt                                                       \n",
      "0        0       12738                    60.46                92.32\n",
      "         1        1060                     5.03                 7.68\n",
      "1        0        4338                    20.59                90.70\n",
      "         1         445                     2.11                 9.30\n",
      "2        0        1909                     9.06                90.43\n",
      "         1         202                     0.96                 9.57\n",
      "3        0         302                     1.43                91.79\n",
      "         1          27                     0.13                 8.21\n",
      "4        0          36                     0.17                90.00\n",
      "         1           4                     0.02                10.00\n",
      "5        0           9                     0.04               100.00\n"
     ]
    }
   ],
   "source": [
    "#Is there a relation between having kids and repaying a loan on time?\n",
    "table_transf(credit_data_upd,'children','debt','purpose_id') "
   ]
  },
  {
   "cell_type": "markdown",
   "metadata": {},
   "source": [
    "## Is there a relation between having kids and repaying a loan on time?\n",
    "\n",
    "- Most of the people that ask for a credit don't have children.\n",
    "- The higher the number of children the less they ask from a credit.\n",
    "- The percentage of people that don't pay their credit on time it's very similar between categories, from a range of 7.7% to 10%\n",
    "- I would conclude that people that have kids have more than 90% of probability on paying ther loan on time."
   ]
  },
  {
   "cell_type": "code",
   "execution_count": 26,
   "metadata": {},
   "outputs": [
    {
     "name": "stdout",
     "output_type": "stream",
     "text": [
      "                        members  ratio by total count(%)  ratio by categoy(%)\n",
      "family_status     debt                                                       \n",
      "civil partnership 0        3734                    17.72                90.59\n",
      "                  1         388                     1.84                 9.41\n",
      "divorced          0        1107                     5.25                92.87\n",
      "                  1          85                     0.40                 7.13\n",
      "married           0       11107                    52.71                92.29\n",
      "                  1         928                     4.40                 7.71\n",
      "unmarried         0        2504                    11.88                90.14\n",
      "                  1         274                     1.30                 9.86\n",
      "widow / widower   0         880                     4.18                93.32\n",
      "                  1          63                     0.30                 6.68\n"
     ]
    }
   ],
   "source": [
    "#Is there a relation between marital status and repaying a loan on time?\n",
    "table_transf(credit_data_upd,'family_status','debt','purpose_id') "
   ]
  },
  {
   "cell_type": "markdown",
   "metadata": {},
   "source": [
    "<div class=\"alert alert-success\" role=\"alert\">\n",
    "Reviewer's comment v. 1:\n",
    "    \n",
    "Please note that you can also use a correlation function to check dependency between variables. However, please take into account that it shows only linear dependecy between variables. Maybe this link will be interesting for you: https://machinelearningmastery.com/how-to-use-correlation-to-understand-the-relationship-between-variables/.\n",
    "</div>"
   ]
  },
  {
   "cell_type": "markdown",
   "metadata": {},
   "source": [
    "## Is there a relation between marital status and repaying a loan on time?\n",
    "\n",
    "- Most of the people that ask for a loan are married or in a civil partnership therefore most of the people that ask for a loan are in legal relationship.\n",
    "- From each category more than 90% the people pay their debts on time. Therefore maritial status doesn't play a big role to analyse repaying a loan on time "
   ]
  },
  {
   "cell_type": "code",
   "execution_count": 27,
   "metadata": {},
   "outputs": [],
   "source": [
    "#Is there a relation between income level and repaying a loan on time?\n",
    "#For the income lever it was created a new column to categorize the income in relation to the median income \n",
    "#The median was use in this case instead of the average due to very different minimum and maximum values in the income column\n",
    "\n",
    "aux = credit_data_upd['total_income'].median() #auxiliar calculus variable \n",
    "pc50 = aux*0.5\n",
    "\n",
    "filter1 = (credit_data_upd['total_income'] == aux)\n",
    "credit_data_upd.loc[filter1, 'Income_Category'] = '2 - Median'\n",
    "\n",
    "filter2 = (credit_data_upd['total_income'] > aux) & (credit_data_upd['total_income'] <= aux + pc50)\n",
    "credit_data_upd.loc[filter2, 'Income_Category'] = '3 - ]Median ; Median + 50%*Median]'\n",
    "\n",
    "filter3 = (credit_data_upd['total_income'] > pc50+aux)\n",
    "credit_data_upd.loc[filter3, 'Income_Category'] = '4 - ]Median + 50%*Median; +infinity['\n",
    "\n",
    "filter4 = (credit_data_upd['total_income'] < aux-pc50)\n",
    "credit_data_upd.loc[filter4, 'Income_Category'] = '0 - ]-inifitniy ; Median - 50%*Median['\n",
    "\n",
    "filter5 = (credit_data_upd['total_income'] < aux) & (credit_data_upd['total_income'] >= aux - pc50)\n",
    "credit_data_upd.loc[filter5, 'Income_Category'] = '1 - ]Median ; Median - 50%*Median]'\n",
    "\n"
   ]
  },
  {
   "cell_type": "code",
   "execution_count": 28,
   "metadata": {},
   "outputs": [
    {
     "name": "stdout",
     "output_type": "stream",
     "text": [
      "                                             members  ratio by total count(%)  \\\n",
      "Income_Category                        debt                                     \n",
      "0 - ]-inifitniy ; Median - 50%*Median[ 0        1852                     8.79   \n",
      "                                       1         148                     0.70   \n",
      "1 - ]Median ; Median - 50%*Median]     0        7803                    37.03   \n",
      "                                       1         731                     3.47   \n",
      "2 - Median                             0           1                     0.00   \n",
      "                                       1           1                     0.00   \n",
      "3 - ]Median ; Median + 50%*Median]     0        6458                    30.65   \n",
      "                                       1         618                     2.93   \n",
      "4 - ]Median + 50%*Median; +infinity[   0        3218                    15.27   \n",
      "                                       1         240                     1.14   \n",
      "\n",
      "                                             ratio by categoy(%)  \n",
      "Income_Category                        debt                       \n",
      "0 - ]-inifitniy ; Median - 50%*Median[ 0                   92.60  \n",
      "                                       1                    7.40  \n",
      "1 - ]Median ; Median - 50%*Median]     0                   91.43  \n",
      "                                       1                    8.57  \n",
      "2 - Median                             0                   50.00  \n",
      "                                       1                   50.00  \n",
      "3 - ]Median ; Median + 50%*Median]     0                   91.27  \n",
      "                                       1                    8.73  \n",
      "4 - ]Median + 50%*Median; +infinity[   0                   93.06  \n",
      "                                       1                    6.94  \n"
     ]
    }
   ],
   "source": [
    "table_transf(credit_data_upd,'Income_Category','debt','purpose_id') "
   ]
  },
  {
   "cell_type": "markdown",
   "metadata": {},
   "source": [
    "<div class=\"alert alert-warning\" role=\"alert\">\n",
    "Reviewer's comment v. 2:\n",
    "    \n",
    "Could you please analyse this table clearly?\n",
    "</div>"
   ]
  },
  {
   "cell_type": "markdown",
   "metadata": {},
   "source": [
    "## Is there a relation between income level and repaying a loan on time?\n",
    "\n",
    "- From this analysis in can't figure a relation between income level and repaying a loan on time, since most of the members inside of each category have a probability for paying their loan on time above 91%. Less the median category that I used as starting point to do my analysis. "
   ]
  },
  {
   "cell_type": "code",
   "execution_count": 29,
   "metadata": {},
   "outputs": [
    {
     "name": "stdout",
     "output_type": "stream",
     "text": [
      "                 members  ratio by total count(%)  ratio by categoy(%)\n",
      "purpose_id debt                                                       \n",
      "car        0        3865                    18.34                90.58\n",
      "           1         402                     1.91                 9.42\n",
      "education  0        3585                    17.01                90.67\n",
      "           1         369                     1.75                 9.33\n",
      "house      0        9762                    46.33                92.59\n",
      "           1         781                     3.71                 7.41\n",
      "wedding    0        2120                    10.06                91.93\n",
      "           1         186                     0.88                 8.07\n"
     ]
    }
   ],
   "source": [
    "table_transf(credit_data_upd,'purpose_id','debt','income_id') "
   ]
  },
  {
   "cell_type": "markdown",
   "metadata": {},
   "source": [
    "## How do different loan purposes affect on-time repayment of the loan?\n",
    "\n",
    "- From this analysis it's not able to find a correlation between the purpose of the loan and their affect on-time repayment. We can only confirm that most of the loans applications are for a house related category.\n"
   ]
  },
  {
   "cell_type": "markdown",
   "metadata": {},
   "source": [
    "<div class=\"alert alert-warning\" role=\"alert\">\n",
    "Reviewer's comment v. 2:\n",
    "    \n",
    "Ok, but try to make more detailed conclusions from data analysis.\n",
    "</div>"
   ]
  },
  {
   "cell_type": "markdown",
   "metadata": {},
   "source": [
    "# Step 4. Write an overall conclusion."
   ]
  },
  {
   "cell_type": "markdown",
   "metadata": {},
   "source": [
    "## General Conclusion\n",
    "\n",
    "- The data provided to try to correlate different variables with the probability of failing a credit payment in my opinion proved to be short for the analysis requested.\n",
    "- I believe that a good metric for finding a correlation would be to know if customers were employed at the time of payment failure. Another metric suggestion would be to cross-check data on how many credits the customer had simultaneously when they start to fail to pay their debit. Unfortunately with the data provided, such an analysis is not possible.\n",
    "- In addition, the data contained some anomalies, including errors in data insertion and lack of categorization, making analysis difficult.\n",
    "- From this data set I wasn't able to discover a relation between on-time loan repayment and their cause. From the 4 analysis that I made the categories show that more than 90% of the members will repay their loan on time.\n",
    "- Probably using an analysis with more advanced maths, using methods of correlation and dependance, I would be able to find a link between not paying a loan on time and their cause even with this data, but at this stage I am not confortable yet to do such analysis with Python. Yet I know that Python does have specific methods to do this type of analysis. Also a ploting a graph would be usefull for this type of analysis. Still it's something that the course didn't cover yet.\n",
    "- Para um primeiro projecto em python, sinto-me bastante contente com os resultados que obtive depois de pouco mais de 30 horas de aprendizagem pela plataform. \n"
   ]
  },
  {
   "cell_type": "markdown",
   "metadata": {},
   "source": [
    "<div class=\"alert alert-danger\" role=\"alert\">\n",
    "Reviewer's comment v. 1:\n",
    "    \n",
    "Please add a general conclusion. It's important part of the project which contains all main findings.\n",
    "</div>"
   ]
  },
  {
   "cell_type": "markdown",
   "metadata": {},
   "source": [
    "<div class=\"alert alert-success\" role=\"alert\">\n",
    "Reviewer's comment v. 2:\n",
    "    \n",
    "well done. all main results of the project described. Please write your project in English :)\n",
    "    \n",
    "\"Para um primeiro projecto em python, sinto-me bastante contente com os resultados que obtive depois de pouco mais de 30 horas de aprendizagem pela plataform.\"    \n",
    "</div>"
   ]
  },
  {
   "cell_type": "code",
   "execution_count": null,
   "metadata": {},
   "outputs": [],
   "source": []
  }
 ],
 "metadata": {
  "kernelspec": {
   "display_name": "Python 3",
   "language": "python",
   "name": "python3"
  },
  "language_info": {
   "codemirror_mode": {
    "name": "ipython",
    "version": 3
   },
   "file_extension": ".py",
   "mimetype": "text/x-python",
   "name": "python",
   "nbconvert_exporter": "python",
   "pygments_lexer": "ipython3",
   "version": "3.6.9-final"
  },
  "toc": {
   "base_numbering": 1,
   "nav_menu": {},
   "number_sections": true,
   "sideBar": true,
   "skip_h1_title": false,
   "title_cell": "Table of Contents",
   "title_sidebar": "Contents",
   "toc_cell": false,
   "toc_position": {},
   "toc_section_display": true,
   "toc_window_display": false
  }
 },
 "nbformat": 4,
 "nbformat_minor": 4
}