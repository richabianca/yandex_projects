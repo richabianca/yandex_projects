{
 "metadata": {
  "language_info": {
   "codemirror_mode": {
    "name": "ipython",
    "version": 3
   },
   "file_extension": ".py",
   "mimetype": "text/x-python",
   "name": "python",
   "nbconvert_exporter": "python",
   "pygments_lexer": "ipython3",
   "version": "3.6.9-final"
  },
  "orig_nbformat": 2,
  "kernelspec": {
   "name": "python3",
   "display_name": "Python 3",
   "language": "python"
  }
 },
 "nbformat": 4,
 "nbformat_minor": 2,
 "cells": [
  {
   "cell_type": "code",
   "execution_count": 178,
   "metadata": {},
   "outputs": [],
   "source": [
    "import pandas as pd"
   ]
  },
  {
   "source": [
    "## 2.1  Step 1. Open the data file and have a look at the general information."
   ],
   "cell_type": "markdown",
   "metadata": {}
  },
  {
   "cell_type": "code",
   "execution_count": 179,
   "metadata": {},
   "outputs": [
    {
     "output_type": "execute_result",
     "data": {
      "text/plain": [
       "    children  days_employed  dob_years            education  education_id  \\\n",
       "0          1   -8437.673028         42    bachelor's degree             0   \n",
       "1          1   -4024.803754         36  secondary education             1   \n",
       "2          0   -5623.422610         33  Secondary Education             1   \n",
       "3          3   -4124.747207         32  secondary education             1   \n",
       "4          0  340266.072047         53  secondary education             1   \n",
       "..       ...            ...        ...                  ...           ...   \n",
       "95         0    -541.832241         51    bachelor's degree             0   \n",
       "96         0            NaN         44  SECONDARY EDUCATION             1   \n",
       "97         0            NaN         47    bachelor's degree             0   \n",
       "98         0  364906.205736         54    bachelor's degree             0   \n",
       "99         0  346541.618895          0  Secondary Education             1   \n",
       "\n",
       "        family_status  family_status_id gender income_type  debt  \\\n",
       "0             married                 0      F    employee     0   \n",
       "1             married                 0      F    employee     0   \n",
       "2             married                 0      M    employee     0   \n",
       "3             married                 0      M    employee     0   \n",
       "4   civil partnership                 1      F     retiree     0   \n",
       "..                ...               ...    ...         ...   ...   \n",
       "95            married                 0      F    employee     0   \n",
       "96            married                 0      F    employee     0   \n",
       "97            married                 0      F    employee     0   \n",
       "98            married                 0      F     retiree     0   \n",
       "99            married                 0      F     retiree     0   \n",
       "\n",
       "    total_income                          purpose  \n",
       "0      40620.102            purchase of the house  \n",
       "1      17932.802                     car purchase  \n",
       "2      23341.752            purchase of the house  \n",
       "3      42820.568          supplementary education  \n",
       "4      25378.572                to have a wedding  \n",
       "..           ...                              ...  \n",
       "95     15070.060                              car  \n",
       "96           NaN      buy residential real estate  \n",
       "97           NaN                profile education  \n",
       "98     31953.168  buying property for renting out  \n",
       "99     11406.644                              car  \n",
       "\n",
       "[100 rows x 12 columns]"
      ],
      "text/html": "<div>\n<style scoped>\n    .dataframe tbody tr th:only-of-type {\n        vertical-align: middle;\n    }\n\n    .dataframe tbody tr th {\n        vertical-align: top;\n    }\n\n    .dataframe thead th {\n        text-align: right;\n    }\n</style>\n<table border=\"1\" class=\"dataframe\">\n  <thead>\n    <tr style=\"text-align: right;\">\n      <th></th>\n      <th>children</th>\n      <th>days_employed</th>\n      <th>dob_years</th>\n      <th>education</th>\n      <th>education_id</th>\n      <th>family_status</th>\n      <th>family_status_id</th>\n      <th>gender</th>\n      <th>income_type</th>\n      <th>debt</th>\n      <th>total_income</th>\n      <th>purpose</th>\n    </tr>\n  </thead>\n  <tbody>\n    <tr>\n      <th>0</th>\n      <td>1</td>\n      <td>-8437.673028</td>\n      <td>42</td>\n      <td>bachelor's degree</td>\n      <td>0</td>\n      <td>married</td>\n      <td>0</td>\n      <td>F</td>\n      <td>employee</td>\n      <td>0</td>\n      <td>40620.102</td>\n      <td>purchase of the house</td>\n    </tr>\n    <tr>\n      <th>1</th>\n      <td>1</td>\n      <td>-4024.803754</td>\n      <td>36</td>\n      <td>secondary education</td>\n      <td>1</td>\n      <td>married</td>\n      <td>0</td>\n      <td>F</td>\n      <td>employee</td>\n      <td>0</td>\n      <td>17932.802</td>\n      <td>car purchase</td>\n    </tr>\n    <tr>\n      <th>2</th>\n      <td>0</td>\n      <td>-5623.422610</td>\n      <td>33</td>\n      <td>Secondary Education</td>\n      <td>1</td>\n      <td>married</td>\n      <td>0</td>\n      <td>M</td>\n      <td>employee</td>\n      <td>0</td>\n      <td>23341.752</td>\n      <td>purchase of the house</td>\n    </tr>\n    <tr>\n      <th>3</th>\n      <td>3</td>\n      <td>-4124.747207</td>\n      <td>32</td>\n      <td>secondary education</td>\n      <td>1</td>\n      <td>married</td>\n      <td>0</td>\n      <td>M</td>\n      <td>employee</td>\n      <td>0</td>\n      <td>42820.568</td>\n      <td>supplementary education</td>\n    </tr>\n    <tr>\n      <th>4</th>\n      <td>0</td>\n      <td>340266.072047</td>\n      <td>53</td>\n      <td>secondary education</td>\n      <td>1</td>\n      <td>civil partnership</td>\n      <td>1</td>\n      <td>F</td>\n      <td>retiree</td>\n      <td>0</td>\n      <td>25378.572</td>\n      <td>to have a wedding</td>\n    </tr>\n    <tr>\n      <th>...</th>\n      <td>...</td>\n      <td>...</td>\n      <td>...</td>\n      <td>...</td>\n      <td>...</td>\n      <td>...</td>\n      <td>...</td>\n      <td>...</td>\n      <td>...</td>\n      <td>...</td>\n      <td>...</td>\n      <td>...</td>\n    </tr>\n    <tr>\n      <th>95</th>\n      <td>0</td>\n      <td>-541.832241</td>\n      <td>51</td>\n      <td>bachelor's degree</td>\n      <td>0</td>\n      <td>married</td>\n      <td>0</td>\n      <td>F</td>\n      <td>employee</td>\n      <td>0</td>\n      <td>15070.060</td>\n      <td>car</td>\n    </tr>\n    <tr>\n      <th>96</th>\n      <td>0</td>\n      <td>NaN</td>\n      <td>44</td>\n      <td>SECONDARY EDUCATION</td>\n      <td>1</td>\n      <td>married</td>\n      <td>0</td>\n      <td>F</td>\n      <td>employee</td>\n      <td>0</td>\n      <td>NaN</td>\n      <td>buy residential real estate</td>\n    </tr>\n    <tr>\n      <th>97</th>\n      <td>0</td>\n      <td>NaN</td>\n      <td>47</td>\n      <td>bachelor's degree</td>\n      <td>0</td>\n      <td>married</td>\n      <td>0</td>\n      <td>F</td>\n      <td>employee</td>\n      <td>0</td>\n      <td>NaN</td>\n      <td>profile education</td>\n    </tr>\n    <tr>\n      <th>98</th>\n      <td>0</td>\n      <td>364906.205736</td>\n      <td>54</td>\n      <td>bachelor's degree</td>\n      <td>0</td>\n      <td>married</td>\n      <td>0</td>\n      <td>F</td>\n      <td>retiree</td>\n      <td>0</td>\n      <td>31953.168</td>\n      <td>buying property for renting out</td>\n    </tr>\n    <tr>\n      <th>99</th>\n      <td>0</td>\n      <td>346541.618895</td>\n      <td>0</td>\n      <td>Secondary Education</td>\n      <td>1</td>\n      <td>married</td>\n      <td>0</td>\n      <td>F</td>\n      <td>retiree</td>\n      <td>0</td>\n      <td>11406.644</td>\n      <td>car</td>\n    </tr>\n  </tbody>\n</table>\n<p>100 rows × 12 columns</p>\n</div>"
     },
     "metadata": {},
     "execution_count": 179
    }
   ],
   "source": [
    "try:\n",
    "    df = pd.read_csv('credit_scoring_eng.csv')\n",
    "except:\n",
    "     df = pd.read_csv('/datasets/credit_scoring_eng.csv')\n",
    "\n",
    "df.head(100)\n",
    "#the 20 first lines loads successfully"
   ]
  },
  {
   "cell_type": "code",
   "execution_count": 180,
   "metadata": {},
   "outputs": [
    {
     "output_type": "stream",
     "name": "stdout",
     "text": [
      "<class 'pandas.core.frame.DataFrame'>\nRangeIndex: 21525 entries, 0 to 21524\nData columns (total 12 columns):\n #   Column            Non-Null Count  Dtype  \n---  ------            --------------  -----  \n 0   children          21525 non-null  int64  \n 1   days_employed     19351 non-null  float64\n 2   dob_years         21525 non-null  int64  \n 3   education         21525 non-null  object \n 4   education_id      21525 non-null  int64  \n 5   family_status     21525 non-null  object \n 6   family_status_id  21525 non-null  int64  \n 7   gender            21525 non-null  object \n 8   income_type       21525 non-null  object \n 9   debt              21525 non-null  int64  \n 10  total_income      19351 non-null  float64\n 11  purpose           21525 non-null  object \ndtypes: float64(2), int64(5), object(5)\nmemory usage: 2.0+ MB\n"
     ]
    }
   ],
   "source": [
    "df.info()\n",
    "#What instantly catches the attention is the altered number of days_employed and total_income columns. This needs to be investigated"
   ]
  },
  {
   "source": [
    "# 2.4 Step 2: Data preprocessing\n",
    "\n",
    "## 2.5 Processing missing values"
   ],
   "cell_type": "markdown",
   "metadata": {}
  },
  {
   "source": [
    "df.isnull().sum()\n",
    "\n",
    "#counts missing values for days_employed and total_income"
   ],
   "cell_type": "code",
   "metadata": {},
   "execution_count": 181,
   "outputs": [
    {
     "output_type": "execute_result",
     "data": {
      "text/plain": [
       "children               0\n",
       "days_employed       2174\n",
       "dob_years              0\n",
       "education              0\n",
       "education_id           0\n",
       "family_status          0\n",
       "family_status_id       0\n",
       "gender                 0\n",
       "income_type            0\n",
       "debt                   0\n",
       "total_income        2174\n",
       "purpose                0\n",
       "dtype: int64"
      ]
     },
     "metadata": {},
     "execution_count": 181
    }
   ]
  },
  {
   "source": [
    "## 2.8  Data type replacement"
   ],
   "cell_type": "markdown",
   "metadata": {}
  },
  {
   "cell_type": "code",
   "execution_count": 182,
   "metadata": {},
   "outputs": [],
   "source": [
    "total_income_mean = df['total_income'].mean()\n",
    "#mean value from total_income column retrieved"
   ]
  },
  {
   "cell_type": "code",
   "execution_count": 183,
   "metadata": {},
   "outputs": [],
   "source": [
    "df['total_income'].fillna(value=total_income_mean, inplace=True)\n",
    "#total_income NaN values filled with mean value\n",
    "\n",
    "df['days_employed'].fillna(value=0, inplace=True)\n",
    "#not possible to retrieve a mean realistic therefore NaN values were replaced by 0."
   ]
  },
  {
   "cell_type": "code",
   "execution_count": 184,
   "metadata": {},
   "outputs": [
    {
     "output_type": "stream",
     "name": "stdout",
     "text": [
      "<class 'pandas.core.frame.DataFrame'>\nRangeIndex: 21525 entries, 0 to 21524\nData columns (total 12 columns):\n #   Column            Non-Null Count  Dtype \n---  ------            --------------  ----- \n 0   children          21525 non-null  int64 \n 1   days_employed     21525 non-null  int64 \n 2   dob_years         21525 non-null  int64 \n 3   education         21525 non-null  object\n 4   education_id      21525 non-null  int64 \n 5   family_status     21525 non-null  object\n 6   family_status_id  21525 non-null  int64 \n 7   gender            21525 non-null  object\n 8   income_type       21525 non-null  object\n 9   debt              21525 non-null  int64 \n 10  total_income      21525 non-null  int64 \n 11  purpose           21525 non-null  object\ndtypes: int64(7), object(5)\nmemory usage: 2.0+ MB\n"
     ]
    }
   ],
   "source": [
    "df['days_employed'] = df['days_employed'].astype(int)\n",
    "df['total_income'] = df['total_income'].astype(int)\n",
    "df.info()\n",
    "#both columns values converted to Integers to match the rest of the table."
   ]
  },
  {
   "cell_type": "code",
   "execution_count": 185,
   "metadata": {},
   "outputs": [],
   "source": [
    "df['education'] = df['education'].str.lower()\n",
    "#turns all of the education columns's values in lowercase to facilitate the duplicate count in the next step"
   ]
  },
  {
   "source": [
    "## 2.12  Processing duplicates\n",
    "\n",
    "#### Duplicates were removed after the first exercise of number 3 of this project"
   ],
   "cell_type": "markdown",
   "metadata": {}
  },
  {
   "cell_type": "code",
   "execution_count": 186,
   "metadata": {},
   "outputs": [
    {
     "output_type": "execute_result",
     "data": {
      "text/plain": [
       "array([\"bachelor's degree\", 'secondary education', 'some college',\n",
       "       'primary education', 'graduate degree'], dtype=object)"
      ]
     },
     "metadata": {},
     "execution_count": 186
    }
   ],
   "source": [
    "df['education'].unique()\n",
    "#checking if there is some values left or corrupted in the column"
   ]
  },
  {
   "cell_type": "code",
   "execution_count": 187,
   "metadata": {},
   "outputs": [
    {
     "output_type": "execute_result",
     "data": {
      "text/plain": [
       "array(['purchase of the house', 'car purchase', 'supplementary education',\n",
       "       'to have a wedding', 'housing transactions', 'education',\n",
       "       'having a wedding', 'purchase of the house for my family',\n",
       "       'buy real estate', 'buy commercial real estate',\n",
       "       'buy residential real estate', 'construction of own property',\n",
       "       'property', 'building a property', 'buying a second-hand car',\n",
       "       'buying my own car', 'transactions with commercial real estate',\n",
       "       'building a real estate', 'housing',\n",
       "       'transactions with my real estate', 'cars', 'to become educated',\n",
       "       'second-hand car purchase', 'getting an education', 'car',\n",
       "       'wedding ceremony', 'to get a supplementary education',\n",
       "       'purchase of my own house', 'real estate transactions',\n",
       "       'getting higher education', 'to own a car', 'purchase of a car',\n",
       "       'profile education', 'university education',\n",
       "       'buying property for renting out', 'to buy a car',\n",
       "       'housing renovation', 'going to university'], dtype=object)"
      ]
     },
     "metadata": {},
     "execution_count": 187
    }
   ],
   "source": [
    "df['purpose'].unique()\n",
    "#checking for duplicates/similar names that can be condensed in less categories"
   ]
  },
  {
   "source": [
    "## 2.15  Categorizing Data"
   ],
   "cell_type": "markdown",
   "metadata": {}
  },
  {
   "cell_type": "code",
   "execution_count": 188,
   "metadata": {},
   "outputs": [
    {
     "output_type": "execute_result",
     "data": {
      "text/plain": [
       "Property & Real Estate    11748\n",
       "Car                        4315\n",
       "Education                  3114\n",
       "Wedding                    2348\n",
       "Name: purpose_categories, dtype: int64"
      ]
     },
     "metadata": {},
     "execution_count": 188
    }
   ],
   "source": [
    "def purpose_categories(purpose):\n",
    "    if 'car' in purpose:\n",
    "        return \"Car\"\n",
    "    if 'education' in purpose:\n",
    "        return 'Education'\n",
    "    if 'wedding' in purpose:\n",
    "        return 'Wedding'\n",
    "    elif 'property' or 'real estate' or 'hous'in purpose:\n",
    "        return 'Property & Real Estate'\n",
    "\n",
    "df['purpose_categories'] = df['purpose'].apply(purpose_categories)\n",
    "df['purpose_categories'].value_counts()\n",
    "\n",
    "#purpose column categorized into 4 columns:\n",
    "#property & real estate, car, education and wedding"
   ]
  },
  {
   "cell_type": "code",
   "execution_count": 189,
   "metadata": {},
   "outputs": [],
   "source": [
    "df = df.drop(columns=['purpose'], axis = 1) \n",
    "#purpose columns is replaced by categorized purposes label 'purpose'."
   ]
  },
  {
   "source": [
    "### Data Categorization (Income Type and Total Income columns)"
   ],
   "cell_type": "markdown",
   "metadata": {}
  },
  {
   "cell_type": "code",
   "execution_count": 190,
   "metadata": {},
   "outputs": [
    {
     "output_type": "execute_result",
     "data": {
      "text/plain": [
       "array(['employee', 'retiree', 'business', 'civil servant', 'unemployed',\n",
       "       'entrepreneur', 'student', 'paternity / maternity leave'],\n",
       "      dtype=object)"
      ]
     },
     "metadata": {},
     "execution_count": 190
    }
   ],
   "source": [
    "df['income_type'].unique()\n",
    "#must be categorized"
   ]
  },
  {
   "cell_type": "code",
   "execution_count": 191,
   "metadata": {},
   "outputs": [
    {
     "output_type": "execute_result",
     "data": {
      "text/plain": [
       "   children  days_employed  dob_years            education  education_id  \\\n",
       "0         1          -8437         42    bachelor's degree             0   \n",
       "1         1          -4024         36  secondary education             1   \n",
       "2         0          -5623         33  secondary education             1   \n",
       "3         3          -4124         32  secondary education             1   \n",
       "4         0         340266         53  secondary education             1   \n",
       "\n",
       "       family_status  family_status_id gender income_type  debt  total_income  \\\n",
       "0            married                 0      F    employee     0         40620   \n",
       "1            married                 0      F    employee     0         17932   \n",
       "2            married                 0      M    employee     0         23341   \n",
       "3            married                 0      M    employee     0         42820   \n",
       "4  civil partnership                 1      F     retiree     0         25378   \n",
       "\n",
       "       purpose_categories        income_levels  \n",
       "0  Property & Real Estate   (31286.0, 40639.0]  \n",
       "1                     Car   (17247.0, 20978.0]  \n",
       "2  Property & Real Estate   (20978.0, 25024.0]  \n",
       "3               Education  (40639.0, 362496.0]  \n",
       "4                 Wedding   (25024.0, 26787.0]  "
      ],
      "text/html": "<div>\n<style scoped>\n    .dataframe tbody tr th:only-of-type {\n        vertical-align: middle;\n    }\n\n    .dataframe tbody tr th {\n        vertical-align: top;\n    }\n\n    .dataframe thead th {\n        text-align: right;\n    }\n</style>\n<table border=\"1\" class=\"dataframe\">\n  <thead>\n    <tr style=\"text-align: right;\">\n      <th></th>\n      <th>children</th>\n      <th>days_employed</th>\n      <th>dob_years</th>\n      <th>education</th>\n      <th>education_id</th>\n      <th>family_status</th>\n      <th>family_status_id</th>\n      <th>gender</th>\n      <th>income_type</th>\n      <th>debt</th>\n      <th>total_income</th>\n      <th>purpose_categories</th>\n      <th>income_levels</th>\n    </tr>\n  </thead>\n  <tbody>\n    <tr>\n      <th>0</th>\n      <td>1</td>\n      <td>-8437</td>\n      <td>42</td>\n      <td>bachelor's degree</td>\n      <td>0</td>\n      <td>married</td>\n      <td>0</td>\n      <td>F</td>\n      <td>employee</td>\n      <td>0</td>\n      <td>40620</td>\n      <td>Property &amp; Real Estate</td>\n      <td>(31286.0, 40639.0]</td>\n    </tr>\n    <tr>\n      <th>1</th>\n      <td>1</td>\n      <td>-4024</td>\n      <td>36</td>\n      <td>secondary education</td>\n      <td>1</td>\n      <td>married</td>\n      <td>0</td>\n      <td>F</td>\n      <td>employee</td>\n      <td>0</td>\n      <td>17932</td>\n      <td>Car</td>\n      <td>(17247.0, 20978.0]</td>\n    </tr>\n    <tr>\n      <th>2</th>\n      <td>0</td>\n      <td>-5623</td>\n      <td>33</td>\n      <td>secondary education</td>\n      <td>1</td>\n      <td>married</td>\n      <td>0</td>\n      <td>M</td>\n      <td>employee</td>\n      <td>0</td>\n      <td>23341</td>\n      <td>Property &amp; Real Estate</td>\n      <td>(20978.0, 25024.0]</td>\n    </tr>\n    <tr>\n      <th>3</th>\n      <td>3</td>\n      <td>-4124</td>\n      <td>32</td>\n      <td>secondary education</td>\n      <td>1</td>\n      <td>married</td>\n      <td>0</td>\n      <td>M</td>\n      <td>employee</td>\n      <td>0</td>\n      <td>42820</td>\n      <td>Education</td>\n      <td>(40639.0, 362496.0]</td>\n    </tr>\n    <tr>\n      <th>4</th>\n      <td>0</td>\n      <td>340266</td>\n      <td>53</td>\n      <td>secondary education</td>\n      <td>1</td>\n      <td>civil partnership</td>\n      <td>1</td>\n      <td>F</td>\n      <td>retiree</td>\n      <td>0</td>\n      <td>25378</td>\n      <td>Wedding</td>\n      <td>(25024.0, 26787.0]</td>\n    </tr>\n  </tbody>\n</table>\n</div>"
     },
     "metadata": {},
     "execution_count": 191
    }
   ],
   "source": [
    "df['income_levels'] = pd.qcut(df['total_income'], q=8, precision=0)\n",
    "df.head()\n",
    "#the total_income column were divided into 8 different quartiles, each one assigned an interval related to income_type values"
   ]
  },
  {
   "cell_type": "code",
   "execution_count": 192,
   "metadata": {},
   "outputs": [
    {
     "output_type": "execute_result",
     "data": {
      "text/plain": [
       "   children  days_employed  dob_years            education  education_id  \\\n",
       "0         1          -8437         42    bachelor's degree             0   \n",
       "1         1          -4024         36  secondary education             1   \n",
       "2         0          -5623         33  secondary education             1   \n",
       "3         3          -4124         32  secondary education             1   \n",
       "4         0         340266         53  secondary education             1   \n",
       "\n",
       "       family_status  family_status_id gender income_type  debt  total_income  \\\n",
       "0            married                 0      F    employee     0         40620   \n",
       "1            married                 0      F    employee     0         17932   \n",
       "2            married                 0      M    employee     0         23341   \n",
       "3            married                 0      M    employee     0         42820   \n",
       "4  civil partnership                 1      F     retiree     0         25378   \n",
       "\n",
       "       purpose_categories        income_levels income_categories  \n",
       "0  Property & Real Estate   (31286.0, 40639.0]        Category 7  \n",
       "1                     Car   (17247.0, 20978.0]        Category 3  \n",
       "2  Property & Real Estate   (20978.0, 25024.0]        Category 4  \n",
       "3               Education  (40639.0, 362496.0]        Category 8  \n",
       "4                 Wedding   (25024.0, 26787.0]        Category 5  "
      ],
      "text/html": "<div>\n<style scoped>\n    .dataframe tbody tr th:only-of-type {\n        vertical-align: middle;\n    }\n\n    .dataframe tbody tr th {\n        vertical-align: top;\n    }\n\n    .dataframe thead th {\n        text-align: right;\n    }\n</style>\n<table border=\"1\" class=\"dataframe\">\n  <thead>\n    <tr style=\"text-align: right;\">\n      <th></th>\n      <th>children</th>\n      <th>days_employed</th>\n      <th>dob_years</th>\n      <th>education</th>\n      <th>education_id</th>\n      <th>family_status</th>\n      <th>family_status_id</th>\n      <th>gender</th>\n      <th>income_type</th>\n      <th>debt</th>\n      <th>total_income</th>\n      <th>purpose_categories</th>\n      <th>income_levels</th>\n      <th>income_categories</th>\n    </tr>\n  </thead>\n  <tbody>\n    <tr>\n      <th>0</th>\n      <td>1</td>\n      <td>-8437</td>\n      <td>42</td>\n      <td>bachelor's degree</td>\n      <td>0</td>\n      <td>married</td>\n      <td>0</td>\n      <td>F</td>\n      <td>employee</td>\n      <td>0</td>\n      <td>40620</td>\n      <td>Property &amp; Real Estate</td>\n      <td>(31286.0, 40639.0]</td>\n      <td>Category 7</td>\n    </tr>\n    <tr>\n      <th>1</th>\n      <td>1</td>\n      <td>-4024</td>\n      <td>36</td>\n      <td>secondary education</td>\n      <td>1</td>\n      <td>married</td>\n      <td>0</td>\n      <td>F</td>\n      <td>employee</td>\n      <td>0</td>\n      <td>17932</td>\n      <td>Car</td>\n      <td>(17247.0, 20978.0]</td>\n      <td>Category 3</td>\n    </tr>\n    <tr>\n      <th>2</th>\n      <td>0</td>\n      <td>-5623</td>\n      <td>33</td>\n      <td>secondary education</td>\n      <td>1</td>\n      <td>married</td>\n      <td>0</td>\n      <td>M</td>\n      <td>employee</td>\n      <td>0</td>\n      <td>23341</td>\n      <td>Property &amp; Real Estate</td>\n      <td>(20978.0, 25024.0]</td>\n      <td>Category 4</td>\n    </tr>\n    <tr>\n      <th>3</th>\n      <td>3</td>\n      <td>-4124</td>\n      <td>32</td>\n      <td>secondary education</td>\n      <td>1</td>\n      <td>married</td>\n      <td>0</td>\n      <td>M</td>\n      <td>employee</td>\n      <td>0</td>\n      <td>42820</td>\n      <td>Education</td>\n      <td>(40639.0, 362496.0]</td>\n      <td>Category 8</td>\n    </tr>\n    <tr>\n      <th>4</th>\n      <td>0</td>\n      <td>340266</td>\n      <td>53</td>\n      <td>secondary education</td>\n      <td>1</td>\n      <td>civil partnership</td>\n      <td>1</td>\n      <td>F</td>\n      <td>retiree</td>\n      <td>0</td>\n      <td>25378</td>\n      <td>Wedding</td>\n      <td>(25024.0, 26787.0]</td>\n      <td>Category 5</td>\n    </tr>\n  </tbody>\n</table>\n</div>"
     },
     "metadata": {},
     "execution_count": 192
    }
   ],
   "source": [
    "df['income_categories'] = pd.qcut(df['total_income'], q=8, precision=0, labels=['Category 1', 'Category 2','Category 3','Category 4','Category 5','Category 6','Category 7','Category 8',])\n",
    "df.head()\n",
    "#income categories simply gives a label to the intervals, making it easy to understand which income type refers to which interval of income."
   ]
  },
  {
   "cell_type": "code",
   "execution_count": 193,
   "metadata": {},
   "outputs": [
    {
     "output_type": "execute_result",
     "data": {
      "text/plain": [
       "income_categories  income_levels      \n",
       "Category 1         (3305.0, 13430.0]      2692\n",
       "Category 2         (13430.0, 17247.0]     2690\n",
       "Category 3         (17247.0, 20978.0]     2690\n",
       "Category 4         (20978.0, 25024.0]     2692\n",
       "Category 5         (25024.0, 26787.0]     3302\n",
       "Category 6         (26787.0, 31286.0]     2078\n",
       "Category 7         (31286.0, 40639.0]     2690\n",
       "Category 8         (40639.0, 362496.0]    2691\n",
       "Name: income_levels, dtype: int64"
      ]
     },
     "metadata": {},
     "execution_count": 193
    }
   ],
   "source": [
    "df.groupby('income_categories')['income_levels'].value_counts()\n",
    "#easier to relate the income amounts with the categories"
   ]
  },
  {
   "cell_type": "code",
   "execution_count": 194,
   "metadata": {},
   "outputs": [
    {
     "output_type": "execute_result",
     "data": {
      "text/plain": [
       "income_type        business  civil servant  employee  entrepreneur  \\\n",
       "income_categories                                                    \n",
       "Category 1              278            168      1362             0   \n",
       "Category 2              474            184      1459             0   \n",
       "Category 3              526            168      1483             0   \n",
       "Category 4              602            177      1491             0   \n",
       "Category 5              799            221      1701             1   \n",
       "Category 6              561            149      1078             0   \n",
       "Category 7              790            195      1383             0   \n",
       "Category 8             1055            197      1162             1   \n",
       "\n",
       "income_type        paternity / maternity leave  retiree  student  unemployed  \n",
       "income_categories                                                             \n",
       "Category 1                                   1      882        0           1  \n",
       "Category 2                                   0      572        1           0  \n",
       "Category 3                                   0      513        0           0  \n",
       "Category 4                                   0      422        0           0  \n",
       "Category 5                                   0      580        0           0  \n",
       "Category 6                                   0      290        0           0  \n",
       "Category 7                                   0      321        0           1  \n",
       "Category 8                                   0      276        0           0  "
      ],
      "text/html": "<div>\n<style scoped>\n    .dataframe tbody tr th:only-of-type {\n        vertical-align: middle;\n    }\n\n    .dataframe tbody tr th {\n        vertical-align: top;\n    }\n\n    .dataframe thead th {\n        text-align: right;\n    }\n</style>\n<table border=\"1\" class=\"dataframe\">\n  <thead>\n    <tr style=\"text-align: right;\">\n      <th>income_type</th>\n      <th>business</th>\n      <th>civil servant</th>\n      <th>employee</th>\n      <th>entrepreneur</th>\n      <th>paternity / maternity leave</th>\n      <th>retiree</th>\n      <th>student</th>\n      <th>unemployed</th>\n    </tr>\n    <tr>\n      <th>income_categories</th>\n      <th></th>\n      <th></th>\n      <th></th>\n      <th></th>\n      <th></th>\n      <th></th>\n      <th></th>\n      <th></th>\n    </tr>\n  </thead>\n  <tbody>\n    <tr>\n      <th>Category 1</th>\n      <td>278</td>\n      <td>168</td>\n      <td>1362</td>\n      <td>0</td>\n      <td>1</td>\n      <td>882</td>\n      <td>0</td>\n      <td>1</td>\n    </tr>\n    <tr>\n      <th>Category 2</th>\n      <td>474</td>\n      <td>184</td>\n      <td>1459</td>\n      <td>0</td>\n      <td>0</td>\n      <td>572</td>\n      <td>1</td>\n      <td>0</td>\n    </tr>\n    <tr>\n      <th>Category 3</th>\n      <td>526</td>\n      <td>168</td>\n      <td>1483</td>\n      <td>0</td>\n      <td>0</td>\n      <td>513</td>\n      <td>0</td>\n      <td>0</td>\n    </tr>\n    <tr>\n      <th>Category 4</th>\n      <td>602</td>\n      <td>177</td>\n      <td>1491</td>\n      <td>0</td>\n      <td>0</td>\n      <td>422</td>\n      <td>0</td>\n      <td>0</td>\n    </tr>\n    <tr>\n      <th>Category 5</th>\n      <td>799</td>\n      <td>221</td>\n      <td>1701</td>\n      <td>1</td>\n      <td>0</td>\n      <td>580</td>\n      <td>0</td>\n      <td>0</td>\n    </tr>\n    <tr>\n      <th>Category 6</th>\n      <td>561</td>\n      <td>149</td>\n      <td>1078</td>\n      <td>0</td>\n      <td>0</td>\n      <td>290</td>\n      <td>0</td>\n      <td>0</td>\n    </tr>\n    <tr>\n      <th>Category 7</th>\n      <td>790</td>\n      <td>195</td>\n      <td>1383</td>\n      <td>0</td>\n      <td>0</td>\n      <td>321</td>\n      <td>0</td>\n      <td>1</td>\n    </tr>\n    <tr>\n      <th>Category 8</th>\n      <td>1055</td>\n      <td>197</td>\n      <td>1162</td>\n      <td>1</td>\n      <td>0</td>\n      <td>276</td>\n      <td>0</td>\n      <td>0</td>\n    </tr>\n  </tbody>\n</table>\n</div>"
     },
     "metadata": {},
     "execution_count": 194
    }
   ],
   "source": [
    "income_stats = df.pivot_table(index='income_categories', values='income_levels', columns='income_type', aggfunc='count')\n",
    "# pivot table created to show how much of each type of income are in every interval of salary.\n",
    "\n",
    "income_stats.fillna(value=0, inplace=True)\n",
    "#NaN values replaced by 0. They play no roles in the table.\n",
    "income_stats = income_stats.astype(int)\n",
    "#all float numbers changed to integer\n",
    "income_stats"
   ]
  },
  {
   "source": [
    "# 2.19  Step 3. Answer these questions"
   ],
   "cell_type": "markdown",
   "metadata": {}
  },
  {
   "source": [
    "## Is there a relation between having kids and repaying a loan on time?"
   ],
   "cell_type": "markdown",
   "metadata": {}
  },
  {
   "cell_type": "code",
   "execution_count": 195,
   "metadata": {},
   "outputs": [],
   "source": [
    "df['children'] = df['children'].replace(to_replace= -1, value=0)\n",
    "#in the children column, the value = 1 were replaced by 0, no children at all.\n",
    "df['children'] = df['children'].replace(to_replace= 20, value=0)\n",
    "#in the children column, the value = 20 were replaced by 2, no children at all.\n",
    "\n",
    "#in my understanding, the -1 might be a random value (MCAR). I wasn't able to assign any other meaning, even comparing to the rest of the table. therefore I replaced with 0, not having any impact in the table at all.\n",
    "#similar happens to the 20 (MAR) value. this time I would consider it a typo, which makes more sense and replaced it to only 2 children.\n"
   ]
  },
  {
   "cell_type": "code",
   "execution_count": 196,
   "metadata": {},
   "outputs": [
    {
     "output_type": "stream",
     "name": "stdout",
     "text": [
      "<class 'pandas.core.frame.DataFrame'>\nRangeIndex: 21096 entries, 0 to 21095\nData columns (total 14 columns):\n #   Column              Non-Null Count  Dtype   \n---  ------              --------------  -----   \n 0   children            21096 non-null  int64   \n 1   days_employed       21096 non-null  int64   \n 2   dob_years           21096 non-null  int64   \n 3   education           21096 non-null  object  \n 4   education_id        21096 non-null  int64   \n 5   family_status       21096 non-null  object  \n 6   family_status_id    21096 non-null  int64   \n 7   gender              21096 non-null  object  \n 8   income_type         21096 non-null  object  \n 9   debt                21096 non-null  int64   \n 10  total_income        21096 non-null  int64   \n 11  purpose_categories  21096 non-null  object  \n 12  income_levels       21096 non-null  category\n 13  income_categories   21096 non-null  category\ndtypes: category(2), int64(7), object(5)\nmemory usage: 2.0+ MB\n"
     ]
    }
   ],
   "source": [
    "df.duplicated().sum()\n",
    "#426 duplicates were find\n",
    "\n",
    "df = df.drop_duplicates().reset_index(drop=True)\n",
    "#duplicated data was deleted and index reseted\n",
    "\n",
    "df.info()"
   ]
  },
  {
   "cell_type": "code",
   "execution_count": 197,
   "metadata": {},
   "outputs": [
    {
     "output_type": "execute_result",
     "data": {
      "text/plain": [
       "No     13936\n",
       "Yes     7160\n",
       "Name: have_children, dtype: int64"
      ]
     },
     "metadata": {},
     "execution_count": 197
    }
   ],
   "source": [
    "def have_children(children):\n",
    "        if children != 0:\n",
    "            return 'Yes'\n",
    "        else:\n",
    "            return 'No'\n",
    "\n",
    "df['have_children'] = df['children'].apply(have_children)\n",
    "df['have_children'].value_counts()\n",
    "#not exactly a necessary column. however, is helpful to the next block of code."
   ]
  },
  {
   "cell_type": "code",
   "execution_count": 228,
   "metadata": {},
   "outputs": [
    {
     "output_type": "execute_result",
     "data": {
      "text/plain": [
       "                     debt\n",
       "have_children debt       \n",
       "No            0     60.99\n",
       "              1      5.07\n",
       "Yes           0     30.77\n",
       "              1      3.17"
      ],
      "text/html": "<div>\n<style scoped>\n    .dataframe tbody tr th:only-of-type {\n        vertical-align: middle;\n    }\n\n    .dataframe tbody tr th {\n        vertical-align: top;\n    }\n\n    .dataframe thead th {\n        text-align: right;\n    }\n</style>\n<table border=\"1\" class=\"dataframe\">\n  <thead>\n    <tr style=\"text-align: right;\">\n      <th></th>\n      <th></th>\n      <th>debt</th>\n    </tr>\n    <tr>\n      <th>have_children</th>\n      <th>debt</th>\n      <th></th>\n    </tr>\n  </thead>\n  <tbody>\n    <tr>\n      <th rowspan=\"2\" valign=\"top\">No</th>\n      <th>0</th>\n      <td>60.99</td>\n    </tr>\n    <tr>\n      <th>1</th>\n      <td>5.07</td>\n    </tr>\n    <tr>\n      <th rowspan=\"2\" valign=\"top\">Yes</th>\n      <th>0</th>\n      <td>30.77</td>\n    </tr>\n    <tr>\n      <th>1</th>\n      <td>3.17</td>\n    </tr>\n  </tbody>\n</table>\n</div>"
     },
     "metadata": {},
     "execution_count": 228
    }
   ],
   "source": [
    "ratio = pd.DataFrame(df.groupby('have_children')['debt'].value_counts() / len(df) * 100)# in % \n",
    "ratio.round(2)\n",
    "\n",
    "#I'm really having difficulties developing a table with the below values. I know is not what was asked, but I need a feedback with some sort of help.\n",
    "\n",
    "#However, the values on the right means the percentage (correlation) between having children and having debts. Therefore, we can conclude that only 3% of the whole list of clients with children have debts. In contrary, not having children increases in around 2% the chance of not paying the loan."
   ]
  },
  {
   "source": [
    "## Is there a relation between marital status and repaying a loan on time?"
   ],
   "cell_type": "markdown",
   "metadata": {}
  },
  {
   "cell_type": "code",
   "execution_count": 229,
   "metadata": {},
   "outputs": [
    {
     "output_type": "execute_result",
     "data": {
      "text/plain": [
       "                         debt\n",
       "family_status     debt       \n",
       "civil partnership 0     17.71\n",
       "                  1      1.84\n",
       "divorced          0      5.25\n",
       "                  1      0.40\n",
       "married           0     52.74\n",
       "                  1      4.40\n",
       "unmarried         0     11.89\n",
       "                  1      1.30\n",
       "widow / widower   0      4.17\n",
       "                  1      0.30"
      ],
      "text/html": "<div>\n<style scoped>\n    .dataframe tbody tr th:only-of-type {\n        vertical-align: middle;\n    }\n\n    .dataframe tbody tr th {\n        vertical-align: top;\n    }\n\n    .dataframe thead th {\n        text-align: right;\n    }\n</style>\n<table border=\"1\" class=\"dataframe\">\n  <thead>\n    <tr style=\"text-align: right;\">\n      <th></th>\n      <th></th>\n      <th>debt</th>\n    </tr>\n    <tr>\n      <th>family_status</th>\n      <th>debt</th>\n      <th></th>\n    </tr>\n  </thead>\n  <tbody>\n    <tr>\n      <th rowspan=\"2\" valign=\"top\">civil partnership</th>\n      <th>0</th>\n      <td>17.71</td>\n    </tr>\n    <tr>\n      <th>1</th>\n      <td>1.84</td>\n    </tr>\n    <tr>\n      <th rowspan=\"2\" valign=\"top\">divorced</th>\n      <th>0</th>\n      <td>5.25</td>\n    </tr>\n    <tr>\n      <th>1</th>\n      <td>0.40</td>\n    </tr>\n    <tr>\n      <th rowspan=\"2\" valign=\"top\">married</th>\n      <th>0</th>\n      <td>52.74</td>\n    </tr>\n    <tr>\n      <th>1</th>\n      <td>4.40</td>\n    </tr>\n    <tr>\n      <th rowspan=\"2\" valign=\"top\">unmarried</th>\n      <th>0</th>\n      <td>11.89</td>\n    </tr>\n    <tr>\n      <th>1</th>\n      <td>1.30</td>\n    </tr>\n    <tr>\n      <th rowspan=\"2\" valign=\"top\">widow / widower</th>\n      <th>0</th>\n      <td>4.17</td>\n    </tr>\n    <tr>\n      <th>1</th>\n      <td>0.30</td>\n    </tr>\n  </tbody>\n</table>\n</div>"
     },
     "metadata": {},
     "execution_count": 229
    }
   ],
   "source": [
    "marital_status = pd.DataFrame(df.groupby('family_status')['debt'].value_counts() / len(df) * 100) # in %\n",
    "marital_status.round(2)\n",
    "\n",
    "#the same logic that is applied to the above question.\n",
    "#what catches the attention at first is the high number of married people and civil partners that don't have debts and covers almost 70% of the list. "
   ]
  },
  {
   "source": [
    "## Is there a relation between income level and repaying a loan on time?"
   ],
   "cell_type": "markdown",
   "metadata": {}
  },
  {
   "cell_type": "code",
   "execution_count": 233,
   "metadata": {},
   "outputs": [
    {
     "output_type": "execute_result",
     "data": {
      "text/plain": [
       "                                             debt\n",
       "income_categories income_levels       debt       \n",
       "Category 1        (3305.0, 13430.0]   0     11.78\n",
       "                                      1      0.98\n",
       "Category 2        (13430.0, 17247.0]  0     11.70\n",
       "                                      1      1.05\n",
       "Category 3        (17247.0, 20978.0]  0     11.67\n",
       "                                      1      1.09\n",
       "Category 4        (20978.0, 25024.0]  0     11.60\n",
       "                                      1      1.16\n",
       "Category 5        (25024.0, 26787.0]  0     12.33\n",
       "                                      1      1.28\n",
       "Category 6        (26787.0, 31286.0]  0      8.99\n",
       "                                      1      0.86\n",
       "Category 7        (31286.0, 40639.0]  0     11.80\n",
       "                                      1      0.95\n",
       "Category 8        (40639.0, 362496.0] 0     11.87\n",
       "                                      1      0.88"
      ],
      "text/html": "<div>\n<style scoped>\n    .dataframe tbody tr th:only-of-type {\n        vertical-align: middle;\n    }\n\n    .dataframe tbody tr th {\n        vertical-align: top;\n    }\n\n    .dataframe thead th {\n        text-align: right;\n    }\n</style>\n<table border=\"1\" class=\"dataframe\">\n  <thead>\n    <tr style=\"text-align: right;\">\n      <th></th>\n      <th></th>\n      <th></th>\n      <th>debt</th>\n    </tr>\n    <tr>\n      <th>income_categories</th>\n      <th>income_levels</th>\n      <th>debt</th>\n      <th></th>\n    </tr>\n  </thead>\n  <tbody>\n    <tr>\n      <th rowspan=\"2\" valign=\"top\">Category 1</th>\n      <th rowspan=\"2\" valign=\"top\">(3305.0, 13430.0]</th>\n      <th>0</th>\n      <td>11.78</td>\n    </tr>\n    <tr>\n      <th>1</th>\n      <td>0.98</td>\n    </tr>\n    <tr>\n      <th rowspan=\"2\" valign=\"top\">Category 2</th>\n      <th rowspan=\"2\" valign=\"top\">(13430.0, 17247.0]</th>\n      <th>0</th>\n      <td>11.70</td>\n    </tr>\n    <tr>\n      <th>1</th>\n      <td>1.05</td>\n    </tr>\n    <tr>\n      <th rowspan=\"2\" valign=\"top\">Category 3</th>\n      <th rowspan=\"2\" valign=\"top\">(17247.0, 20978.0]</th>\n      <th>0</th>\n      <td>11.67</td>\n    </tr>\n    <tr>\n      <th>1</th>\n      <td>1.09</td>\n    </tr>\n    <tr>\n      <th rowspan=\"2\" valign=\"top\">Category 4</th>\n      <th rowspan=\"2\" valign=\"top\">(20978.0, 25024.0]</th>\n      <th>0</th>\n      <td>11.60</td>\n    </tr>\n    <tr>\n      <th>1</th>\n      <td>1.16</td>\n    </tr>\n    <tr>\n      <th rowspan=\"2\" valign=\"top\">Category 5</th>\n      <th rowspan=\"2\" valign=\"top\">(25024.0, 26787.0]</th>\n      <th>0</th>\n      <td>12.33</td>\n    </tr>\n    <tr>\n      <th>1</th>\n      <td>1.28</td>\n    </tr>\n    <tr>\n      <th rowspan=\"2\" valign=\"top\">Category 6</th>\n      <th rowspan=\"2\" valign=\"top\">(26787.0, 31286.0]</th>\n      <th>0</th>\n      <td>8.99</td>\n    </tr>\n    <tr>\n      <th>1</th>\n      <td>0.86</td>\n    </tr>\n    <tr>\n      <th rowspan=\"2\" valign=\"top\">Category 7</th>\n      <th rowspan=\"2\" valign=\"top\">(31286.0, 40639.0]</th>\n      <th>0</th>\n      <td>11.80</td>\n    </tr>\n    <tr>\n      <th>1</th>\n      <td>0.95</td>\n    </tr>\n    <tr>\n      <th rowspan=\"2\" valign=\"top\">Category 8</th>\n      <th rowspan=\"2\" valign=\"top\">(40639.0, 362496.0]</th>\n      <th>0</th>\n      <td>11.87</td>\n    </tr>\n    <tr>\n      <th>1</th>\n      <td>0.88</td>\n    </tr>\n  </tbody>\n</table>\n</div>"
     },
     "metadata": {},
     "execution_count": 233
    }
   ],
   "source": [
    "income_loan = pd.DataFrame(df.groupby(['income_categories', 'income_levels'])['debt'].value_counts() / len(df) * 100) # in %\n",
    "income_loan.round(2)\n",
    "\n",
    "#same as above\n",
    "#almost all categories of incoming levels has a very low ratio of defaulting clientes, around  1%."
   ]
  },
  {
   "source": [
    "How do different loan purposes affect on-time repayment of the loan?"
   ],
   "cell_type": "markdown",
   "metadata": {}
  },
  {
   "cell_type": "code",
   "execution_count": 236,
   "metadata": {},
   "outputs": [
    {
     "output_type": "execute_result",
     "data": {
      "text/plain": [
       "                              debt\n",
       "purpose_categories     debt       \n",
       "Car                    0     18.34\n",
       "                       1      1.91\n",
       "Education              0     13.26\n",
       "                       1      1.37\n",
       "Property & Real Estate 0     50.11\n",
       "                       1      4.09\n",
       "Wedding                0     10.05\n",
       "                       1      0.88"
      ],
      "text/html": "<div>\n<style scoped>\n    .dataframe tbody tr th:only-of-type {\n        vertical-align: middle;\n    }\n\n    .dataframe tbody tr th {\n        vertical-align: top;\n    }\n\n    .dataframe thead th {\n        text-align: right;\n    }\n</style>\n<table border=\"1\" class=\"dataframe\">\n  <thead>\n    <tr style=\"text-align: right;\">\n      <th></th>\n      <th></th>\n      <th>debt</th>\n    </tr>\n    <tr>\n      <th>purpose_categories</th>\n      <th>debt</th>\n      <th></th>\n    </tr>\n  </thead>\n  <tbody>\n    <tr>\n      <th rowspan=\"2\" valign=\"top\">Car</th>\n      <th>0</th>\n      <td>18.34</td>\n    </tr>\n    <tr>\n      <th>1</th>\n      <td>1.91</td>\n    </tr>\n    <tr>\n      <th rowspan=\"2\" valign=\"top\">Education</th>\n      <th>0</th>\n      <td>13.26</td>\n    </tr>\n    <tr>\n      <th>1</th>\n      <td>1.37</td>\n    </tr>\n    <tr>\n      <th rowspan=\"2\" valign=\"top\">Property &amp; Real Estate</th>\n      <th>0</th>\n      <td>50.11</td>\n    </tr>\n    <tr>\n      <th>1</th>\n      <td>4.09</td>\n    </tr>\n    <tr>\n      <th rowspan=\"2\" valign=\"top\">Wedding</th>\n      <th>0</th>\n      <td>10.05</td>\n    </tr>\n    <tr>\n      <th>1</th>\n      <td>0.88</td>\n    </tr>\n  </tbody>\n</table>\n</div>"
     },
     "metadata": {},
     "execution_count": 236
    }
   ],
   "source": [
    "purposes = pd.DataFrame(df.groupby('purpose_categories')['debt'].value_counts() / len(df) * 100) # in %\n",
    "purposes.round(2)income_loan = pd.DataFrame(df.groupby(['income_categories', 'income_levels'])['debt'].value_counts() / len(df) * 100)\n",
    "income_loan.round(2)"
   ]
  },
  {
   "source": [
    "# OVERALL CONCLUSION"
   ],
   "cell_type": "markdown",
   "metadata": {}
  },
  {
   "cell_type": "code",
   "execution_count": 239,
   "metadata": {},
   "outputs": [
    {
     "output_type": "execute_result",
     "data": {
      "text/plain": [
       "      children  days_employed  dob_years  education  education_id  \\\n",
       "debt                                                                \n",
       "0        91.76          91.76      91.76      91.76         91.76   \n",
       "1         8.24           8.24       8.24       8.24          8.24   \n",
       "\n",
       "      family_status  family_status_id  gender  income_type  total_income  \\\n",
       "debt                                                                       \n",
       "0             91.76             91.76   91.76        91.76         91.76   \n",
       "1              8.24              8.24    8.24         8.24          8.24   \n",
       "\n",
       "      purpose_categories  income_levels  income_categories  have_children  \\\n",
       "debt                                                                        \n",
       "0                  91.76          91.76              91.76          91.76   \n",
       "1                   8.24           8.24               8.24           8.24   \n",
       "\n",
       "      ratio  \n",
       "debt         \n",
       "0     91.76  \n",
       "1      8.24  "
      ],
      "text/html": "<div>\n<style scoped>\n    .dataframe tbody tr th:only-of-type {\n        vertical-align: middle;\n    }\n\n    .dataframe tbody tr th {\n        vertical-align: top;\n    }\n\n    .dataframe thead th {\n        text-align: right;\n    }\n</style>\n<table border=\"1\" class=\"dataframe\">\n  <thead>\n    <tr style=\"text-align: right;\">\n      <th></th>\n      <th>children</th>\n      <th>days_employed</th>\n      <th>dob_years</th>\n      <th>education</th>\n      <th>education_id</th>\n      <th>family_status</th>\n      <th>family_status_id</th>\n      <th>gender</th>\n      <th>income_type</th>\n      <th>total_income</th>\n      <th>purpose_categories</th>\n      <th>income_levels</th>\n      <th>income_categories</th>\n      <th>have_children</th>\n      <th>ratio</th>\n    </tr>\n    <tr>\n      <th>debt</th>\n      <th></th>\n      <th></th>\n      <th></th>\n      <th></th>\n      <th></th>\n      <th></th>\n      <th></th>\n      <th></th>\n      <th></th>\n      <th></th>\n      <th></th>\n      <th></th>\n      <th></th>\n      <th></th>\n      <th></th>\n    </tr>\n  </thead>\n  <tbody>\n    <tr>\n      <th>0</th>\n      <td>91.76</td>\n      <td>91.76</td>\n      <td>91.76</td>\n      <td>91.76</td>\n      <td>91.76</td>\n      <td>91.76</td>\n      <td>91.76</td>\n      <td>91.76</td>\n      <td>91.76</td>\n      <td>91.76</td>\n      <td>91.76</td>\n      <td>91.76</td>\n      <td>91.76</td>\n      <td>91.76</td>\n      <td>91.76</td>\n    </tr>\n    <tr>\n      <th>1</th>\n      <td>8.24</td>\n      <td>8.24</td>\n      <td>8.24</td>\n      <td>8.24</td>\n      <td>8.24</td>\n      <td>8.24</td>\n      <td>8.24</td>\n      <td>8.24</td>\n      <td>8.24</td>\n      <td>8.24</td>\n      <td>8.24</td>\n      <td>8.24</td>\n      <td>8.24</td>\n      <td>8.24</td>\n      <td>8.24</td>\n    </tr>\n  </tbody>\n</table>\n</div>"
     },
     "metadata": {},
     "execution_count": 239
    }
   ],
   "source": [
    "overall = pd.DataFrame(df.groupby('debt').count() / len(df) * 100) # in %\n",
    "overall.round(2)"
   ]
  },
  {
   "cell_type": "code",
   "execution_count": null,
   "metadata": {},
   "outputs": [],
   "source": [
    "### To conclude, after all calculations and table divisions, the goal was achieved: in average, only 8% of the customers of the whole list have debts. However, this number must be examined in details, as I did in the last 4 tables above.\n",
    "\n",
    "###The group with the higher risk of defaulting clients is the one of MARRIED PEOPLE WITHOUT CHILDREN. together, 9% of them doesn't pay their loans in time. I would say that to this group of people, the bank should be more careful when allowing then a loan.\n",
    "\n",
    "###There were some typos and missing values in the original files which coud lead to misunderstandings in the children, education, total_income and purpose_categories columns. Therefore, a .lower() method as well as mean() methods and fillna()were necessary o standardize data.\n",
    "\n"
   ]
  }
 ]
}