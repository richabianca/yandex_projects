{
 "metadata": {
  "language_info": {
   "codemirror_mode": {
    "name": "ipython",
    "version": 3
   },
   "file_extension": ".py",
   "mimetype": "text/x-python",
   "name": "python",
   "nbconvert_exporter": "python",
   "pygments_lexer": "ipython3",
   "version": "3.6.9-final"
  },
  "orig_nbformat": 2,
  "kernelspec": {
   "name": "python36964bit127bbf595b254b8781ff4b81e1adee94",
   "display_name": "Python 3.6.9 64-bit",
   "language": "python"
  }
 },
 "nbformat": 4,
 "nbformat_minor": 2,
 "cells": [
  {
   "cell_type": "code",
   "execution_count": 2,
   "metadata": {},
   "outputs": [],
   "source": [
    "import pandas as pd\n",
    "import matplotlib.pyplot as plt\n",
    "import numpy as np\n",
    "import math"
   ]
  },
  {
   "source": [
    "## Step 1. Open the data file and study the general information"
   ],
   "cell_type": "markdown",
   "metadata": {}
  },
  {
   "cell_type": "code",
   "execution_count": 3,
   "metadata": {},
   "outputs": [
    {
     "output_type": "execute_result",
     "data": {
      "text/plain": [
       "       price  model_year           model  condition  cylinders fuel  odometer  \\\n",
       "0       9400      2011.0          bmw x5       good        6.0  gas  145000.0   \n",
       "1      25500         NaN      ford f-150       good        6.0  gas   88705.0   \n",
       "2       5500      2013.0  hyundai sonata   like new        4.0  gas  110000.0   \n",
       "3       1500      2003.0      ford f-150       fair        8.0  gas       NaN   \n",
       "4      14900      2017.0    chrysler 200  excellent        4.0  gas   80903.0   \n",
       "...      ...         ...             ...        ...        ...  ...       ...   \n",
       "51520   9249      2013.0   nissan maxima   like new        6.0  gas   88136.0   \n",
       "51521   2700      2002.0     honda civic    salvage        4.0  gas  181500.0   \n",
       "51522   3950      2009.0  hyundai sonata  excellent        4.0  gas  128000.0   \n",
       "51523   7455      2013.0  toyota corolla       good        4.0  gas  139573.0   \n",
       "51524   6300      2014.0   nissan altima       good        4.0  gas       NaN   \n",
       "\n",
       "      transmission    type paint_color  is_4wd date_posted  days_listed  \n",
       "0        automatic     SUV         NaN     1.0  2018-06-23           19  \n",
       "1        automatic  pickup       white     1.0  2018-10-19           50  \n",
       "2        automatic   sedan         red     NaN  2019-02-07           79  \n",
       "3        automatic  pickup         NaN     NaN  2019-03-22            9  \n",
       "4        automatic   sedan       black     NaN  2019-04-02           28  \n",
       "...            ...     ...         ...     ...         ...          ...  \n",
       "51520    automatic   sedan       black     NaN  2018-10-03           37  \n",
       "51521    automatic   sedan       white     NaN  2018-11-14           22  \n",
       "51522    automatic   sedan        blue     NaN  2018-11-15           32  \n",
       "51523    automatic   sedan       black     NaN  2018-07-02           71  \n",
       "51524    automatic   sedan         NaN     NaN  2018-06-05           10  \n",
       "\n",
       "[51525 rows x 13 columns]"
      ],
      "text/html": "<div>\n<style scoped>\n    .dataframe tbody tr th:only-of-type {\n        vertical-align: middle;\n    }\n\n    .dataframe tbody tr th {\n        vertical-align: top;\n    }\n\n    .dataframe thead th {\n        text-align: right;\n    }\n</style>\n<table border=\"1\" class=\"dataframe\">\n  <thead>\n    <tr style=\"text-align: right;\">\n      <th></th>\n      <th>price</th>\n      <th>model_year</th>\n      <th>model</th>\n      <th>condition</th>\n      <th>cylinders</th>\n      <th>fuel</th>\n      <th>odometer</th>\n      <th>transmission</th>\n      <th>type</th>\n      <th>paint_color</th>\n      <th>is_4wd</th>\n      <th>date_posted</th>\n      <th>days_listed</th>\n    </tr>\n  </thead>\n  <tbody>\n    <tr>\n      <th>0</th>\n      <td>9400</td>\n      <td>2011.0</td>\n      <td>bmw x5</td>\n      <td>good</td>\n      <td>6.0</td>\n      <td>gas</td>\n      <td>145000.0</td>\n      <td>automatic</td>\n      <td>SUV</td>\n      <td>NaN</td>\n      <td>1.0</td>\n      <td>2018-06-23</td>\n      <td>19</td>\n    </tr>\n    <tr>\n      <th>1</th>\n      <td>25500</td>\n      <td>NaN</td>\n      <td>ford f-150</td>\n      <td>good</td>\n      <td>6.0</td>\n      <td>gas</td>\n      <td>88705.0</td>\n      <td>automatic</td>\n      <td>pickup</td>\n      <td>white</td>\n      <td>1.0</td>\n      <td>2018-10-19</td>\n      <td>50</td>\n    </tr>\n    <tr>\n      <th>2</th>\n      <td>5500</td>\n      <td>2013.0</td>\n      <td>hyundai sonata</td>\n      <td>like new</td>\n      <td>4.0</td>\n      <td>gas</td>\n      <td>110000.0</td>\n      <td>automatic</td>\n      <td>sedan</td>\n      <td>red</td>\n      <td>NaN</td>\n      <td>2019-02-07</td>\n      <td>79</td>\n    </tr>\n    <tr>\n      <th>3</th>\n      <td>1500</td>\n      <td>2003.0</td>\n      <td>ford f-150</td>\n      <td>fair</td>\n      <td>8.0</td>\n      <td>gas</td>\n      <td>NaN</td>\n      <td>automatic</td>\n      <td>pickup</td>\n      <td>NaN</td>\n      <td>NaN</td>\n      <td>2019-03-22</td>\n      <td>9</td>\n    </tr>\n    <tr>\n      <th>4</th>\n      <td>14900</td>\n      <td>2017.0</td>\n      <td>chrysler 200</td>\n      <td>excellent</td>\n      <td>4.0</td>\n      <td>gas</td>\n      <td>80903.0</td>\n      <td>automatic</td>\n      <td>sedan</td>\n      <td>black</td>\n      <td>NaN</td>\n      <td>2019-04-02</td>\n      <td>28</td>\n    </tr>\n    <tr>\n      <th>...</th>\n      <td>...</td>\n      <td>...</td>\n      <td>...</td>\n      <td>...</td>\n      <td>...</td>\n      <td>...</td>\n      <td>...</td>\n      <td>...</td>\n      <td>...</td>\n      <td>...</td>\n      <td>...</td>\n      <td>...</td>\n      <td>...</td>\n    </tr>\n    <tr>\n      <th>51520</th>\n      <td>9249</td>\n      <td>2013.0</td>\n      <td>nissan maxima</td>\n      <td>like new</td>\n      <td>6.0</td>\n      <td>gas</td>\n      <td>88136.0</td>\n      <td>automatic</td>\n      <td>sedan</td>\n      <td>black</td>\n      <td>NaN</td>\n      <td>2018-10-03</td>\n      <td>37</td>\n    </tr>\n    <tr>\n      <th>51521</th>\n      <td>2700</td>\n      <td>2002.0</td>\n      <td>honda civic</td>\n      <td>salvage</td>\n      <td>4.0</td>\n      <td>gas</td>\n      <td>181500.0</td>\n      <td>automatic</td>\n      <td>sedan</td>\n      <td>white</td>\n      <td>NaN</td>\n      <td>2018-11-14</td>\n      <td>22</td>\n    </tr>\n    <tr>\n      <th>51522</th>\n      <td>3950</td>\n      <td>2009.0</td>\n      <td>hyundai sonata</td>\n      <td>excellent</td>\n      <td>4.0</td>\n      <td>gas</td>\n      <td>128000.0</td>\n      <td>automatic</td>\n      <td>sedan</td>\n      <td>blue</td>\n      <td>NaN</td>\n      <td>2018-11-15</td>\n      <td>32</td>\n    </tr>\n    <tr>\n      <th>51523</th>\n      <td>7455</td>\n      <td>2013.0</td>\n      <td>toyota corolla</td>\n      <td>good</td>\n      <td>4.0</td>\n      <td>gas</td>\n      <td>139573.0</td>\n      <td>automatic</td>\n      <td>sedan</td>\n      <td>black</td>\n      <td>NaN</td>\n      <td>2018-07-02</td>\n      <td>71</td>\n    </tr>\n    <tr>\n      <th>51524</th>\n      <td>6300</td>\n      <td>2014.0</td>\n      <td>nissan altima</td>\n      <td>good</td>\n      <td>4.0</td>\n      <td>gas</td>\n      <td>NaN</td>\n      <td>automatic</td>\n      <td>sedan</td>\n      <td>NaN</td>\n      <td>NaN</td>\n      <td>2018-06-05</td>\n      <td>10</td>\n    </tr>\n  </tbody>\n</table>\n<p>51525 rows × 13 columns</p>\n</div>"
     },
     "metadata": {},
     "execution_count": 3
    }
   ],
   "source": [
    "try:\n",
    "    cars = pd.read_csv('vehicles_us.csv')\n",
    "except:\n",
    "     cars = pd.read_csv('/datasets/vehicles_us.csv')\n",
    "\n",
    "cars"
   ]
  },
  {
   "cell_type": "code",
   "execution_count": 4,
   "metadata": {},
   "outputs": [
    {
     "output_type": "stream",
     "name": "stdout",
     "text": [
      "<class 'pandas.core.frame.DataFrame'>\nRangeIndex: 51525 entries, 0 to 51524\nData columns (total 13 columns):\n #   Column        Non-Null Count  Dtype  \n---  ------        --------------  -----  \n 0   price         51525 non-null  int64  \n 1   model_year    47906 non-null  float64\n 2   model         51525 non-null  object \n 3   condition     51525 non-null  object \n 4   cylinders     46265 non-null  float64\n 5   fuel          51525 non-null  object \n 6   odometer      43633 non-null  float64\n 7   transmission  51525 non-null  object \n 8   type          51525 non-null  object \n 9   paint_color   42258 non-null  object \n 10  is_4wd        25572 non-null  float64\n 11  date_posted   51525 non-null  object \n 12  days_listed   51525 non-null  int64  \ndtypes: float64(4), int64(2), object(7)\nmemory usage: 5.1+ MB\n"
     ]
    }
   ],
   "source": [
    "cars.info()"
   ]
  },
  {
   "source": [
    "## Step 2. Data preprocessing\n",
    "\n",
    "### — Identify and study missing values:"
   ],
   "cell_type": "markdown",
   "metadata": {}
  },
  {
   "cell_type": "code",
   "execution_count": 5,
   "metadata": {},
   "outputs": [
    {
     "output_type": "execute_result",
     "data": {
      "text/plain": [
       "price               0\n",
       "model_year       3619\n",
       "model               0\n",
       "condition           0\n",
       "cylinders        5260\n",
       "fuel                0\n",
       "odometer         7892\n",
       "transmission        0\n",
       "type                0\n",
       "paint_color      9267\n",
       "is_4wd          25953\n",
       "date_posted         0\n",
       "days_listed         0\n",
       "dtype: int64"
      ]
     },
     "metadata": {},
     "execution_count": 5
    }
   ],
   "source": [
    "cars.isnull().sum()"
   ]
  },
  {
   "cell_type": "code",
   "execution_count": 6,
   "metadata": {},
   "outputs": [],
   "source": [
    "cars['model_year'].fillna(cars.groupby('model')['model_year'].transform('mean'), inplace=True)"
   ]
  },
  {
   "cell_type": "code",
   "execution_count": 7,
   "metadata": {},
   "outputs": [],
   "source": [
    "cars['cylinders'].fillna(cars.groupby('model')['cylinders'].transform('median'), inplace=True)"
   ]
  },
  {
   "cell_type": "code",
   "execution_count": 8,
   "metadata": {},
   "outputs": [],
   "source": [
    "cars['odometer'].fillna(cars.groupby('model_year')['odometer'].transform('mean'), inplace=True)\n",
    "cars['odometer'].fillna(value=0, inplace=True) #one last nan value was replaced by 0"
   ]
  },
  {
   "cell_type": "code",
   "execution_count": 9,
   "metadata": {},
   "outputs": [],
   "source": [
    "cars['paint_color'].fillna(value='N/A', inplace=True)"
   ]
  },
  {
   "cell_type": "code",
   "execution_count": 10,
   "metadata": {},
   "outputs": [],
   "source": [
    "cars['is_4wd'].fillna(value=0, inplace=True)"
   ]
  },
  {
   "cell_type": "code",
   "execution_count": 11,
   "metadata": {},
   "outputs": [
    {
     "output_type": "execute_result",
     "data": {
      "text/plain": [
       "price           0\n",
       "model_year      0\n",
       "model           0\n",
       "condition       0\n",
       "cylinders       0\n",
       "fuel            0\n",
       "odometer        0\n",
       "transmission    0\n",
       "type            0\n",
       "paint_color     0\n",
       "is_4wd          0\n",
       "date_posted     0\n",
       "days_listed     0\n",
       "dtype: int64"
      ]
     },
     "metadata": {},
     "execution_count": 11
    }
   ],
   "source": [
    "cars.isnull().sum() # checking if there are still any missing values left"
   ]
  },
  {
   "source": [
    "### About missing values:\n",
    "\n",
    "#### model_year column missing values were replaced by the mean number of years per model.\n",
    "#### cylinders column missing value were replaced by the median number of the amount of cylinders per model\n",
    "#### odometer column missing values were replaced by the mean number of the odometer counts per model_year group. after the replacement there were one missing value left. the model_year value related to the car only had one single representant (model_year == 1929), therefore the program was unable to calculate the mean odometer value. It was replaced manually by 0.\n",
    "\n",
    "#### all of the above columns I considered as MAR values as they could be estimated based on other information provided in the table.\n",
    "\n",
    "#### paint_color colums missing values were assigned N/A because is not possible to find out the color of each car, even though the models could be exactly equal in all other columns. Moreover, so far, there is no need to know the exact color. MCAR value\n",
    "\n",
    "#### is_4wd column missing values were assigned 0 (False) because the only other option is True, embracing half of the table. MNAR value.\n",
    "\n",
    "#### I believe the missing values were so frequent due to  the subject of the the table. These are very solid data that is usually found in every vehicle documents. If the person doesn't have access to these documents, very likely this could be the reason to such missing values."
   ],
   "cell_type": "markdown",
   "metadata": {}
  },
  {
   "source": [
    "### — Convert the data to the required types:"
   ],
   "cell_type": "markdown",
   "metadata": {}
  },
  {
   "source": [
    "cars['model_year'] = cars['model_year'].astype(int)\n",
    "cars['cylinders'] = cars['cylinders'].astype(int)\n",
    "cars['odometer'] = cars['odometer'].astype(int)\n",
    "cars['is_4wd'] = cars['is_4wd'].astype(int)\n",
    "cars['date_posted'] = pd.to_datetime(cars['date_posted'], format='%Y-%m-%d')"
   ],
   "cell_type": "code",
   "metadata": {},
   "execution_count": 12,
   "outputs": []
  },
  {
   "cell_type": "code",
   "execution_count": 13,
   "metadata": {},
   "outputs": [
    {
     "output_type": "execute_result",
     "data": {
      "text/plain": [
       "price                    int64\n",
       "model_year               int64\n",
       "model                   object\n",
       "condition               object\n",
       "cylinders                int64\n",
       "fuel                    object\n",
       "odometer                 int64\n",
       "transmission            object\n",
       "type                    object\n",
       "paint_color             object\n",
       "is_4wd                   int64\n",
       "date_posted     datetime64[ns]\n",
       "days_listed              int64\n",
       "dtype: object"
      ]
     },
     "metadata": {},
     "execution_count": 13
    }
   ],
   "source": [
    "cars.dtypes"
   ]
  },
  {
   "cell_type": "code",
   "execution_count": 14,
   "metadata": {},
   "outputs": [
    {
     "output_type": "execute_result",
     "data": {
      "text/plain": [
       "0"
      ]
     },
     "metadata": {},
     "execution_count": 14
    }
   ],
   "source": [
    "cars.duplicated().sum()"
   ]
  },
  {
   "source": [
    "#### There is no reason for model_year, cylinders and is_4wd to be floating points since the two first columns show round numbers and the third one shows a boolean value. The odometer column could be a floating point, but is already rounded up to facilitate the reading. They were all converted to integer to match the table and facilitate future manipulations. Also, no duplicate was found\n",
    "\n",
    "#### date_posted column was converted to datetime datatype to match the next task."
   ],
   "cell_type": "markdown",
   "metadata": {}
  },
  {
   "source": [
    "## Step 3. Calculate and add to the table the following:"
   ],
   "cell_type": "markdown",
   "metadata": {}
  },
  {
   "source": [
    "### Day of the week, month, and year the ad was placed"
   ],
   "cell_type": "markdown",
   "metadata": {}
  },
  {
   "cell_type": "code",
   "execution_count": 15,
   "metadata": {},
   "outputs": [],
   "source": [
    "cars['date_posted'] = pd.to_datetime(cars['date_posted']).apply(lambda x: pd.datetime.strftime(x,'%d/%m/%y'))\n",
    "# date rearranged to the correct display\n",
    "weekday = pd.DatetimeIndex(cars['date_posted']).day_name().astype(str)\n",
    "month = pd.DatetimeIndex(cars['date_posted']).month_name().astype(str)\n",
    "year_str = pd.DatetimeIndex(cars['date_posted']).year.astype(str)\n",
    "year_num = pd.DatetimeIndex(cars['date_posted']).year #different dtype \n",
    "# day of the week, month and year were extracted"
   ]
  },
  {
   "cell_type": "code",
   "execution_count": 16,
   "metadata": {},
   "outputs": [
    {
     "output_type": "execute_result",
     "data": {
      "text/plain": [
       "       price  model_year           model  condition  cylinders fuel  odometer  \\\n",
       "0       9400        2011          bmw x5       good          6  gas    145000   \n",
       "1      25500        2009      ford f-150       good          6  gas     88705   \n",
       "2       5500        2013  hyundai sonata   like new          4  gas    110000   \n",
       "3       1500        2003      ford f-150       fair          8  gas    162071   \n",
       "4      14900        2017    chrysler 200  excellent          4  gas     80903   \n",
       "...      ...         ...             ...        ...        ...  ...       ...   \n",
       "51520   9249        2013   nissan maxima   like new          6  gas     88136   \n",
       "51521   2700        2002     honda civic    salvage          4  gas    181500   \n",
       "51522   3950        2009  hyundai sonata  excellent          4  gas    128000   \n",
       "51523   7455        2013  toyota corolla       good          4  gas    139573   \n",
       "51524   6300        2014   nissan altima       good          4  gas     93699   \n",
       "\n",
       "      transmission    type paint_color  is_4wd date_posted  days_listed  \\\n",
       "0        automatic     SUV         N/A       1    23/06/18           19   \n",
       "1        automatic  pickup       white       1    19/10/18           50   \n",
       "2        automatic   sedan         red       0    07/02/19           79   \n",
       "3        automatic  pickup         N/A       0    22/03/19            9   \n",
       "4        automatic   sedan       black       0    02/04/19           28   \n",
       "...            ...     ...         ...     ...         ...          ...   \n",
       "51520    automatic   sedan       black       0    03/10/18           37   \n",
       "51521    automatic   sedan       white       0    14/11/18           22   \n",
       "51522    automatic   sedan        blue       0    15/11/18           32   \n",
       "51523    automatic   sedan       black       0    02/07/18           71   \n",
       "51524    automatic   sedan         N/A       0    05/06/18           10   \n",
       "\n",
       "                     ad_placed  \n",
       "0           Saturday June 2018  \n",
       "1          Friday October 2018  \n",
       "2            Tuesday July 2019  \n",
       "3            Friday March 2019  \n",
       "4         Monday February 2019  \n",
       "...                        ...  \n",
       "51520      Saturday March 2018  \n",
       "51521  Wednesday November 2018  \n",
       "51522   Thursday November 2018  \n",
       "51523  Wednesday February 2018  \n",
       "51524          Sunday May 2018  \n",
       "\n",
       "[51525 rows x 14 columns]"
      ],
      "text/html": "<div>\n<style scoped>\n    .dataframe tbody tr th:only-of-type {\n        vertical-align: middle;\n    }\n\n    .dataframe tbody tr th {\n        vertical-align: top;\n    }\n\n    .dataframe thead th {\n        text-align: right;\n    }\n</style>\n<table border=\"1\" class=\"dataframe\">\n  <thead>\n    <tr style=\"text-align: right;\">\n      <th></th>\n      <th>price</th>\n      <th>model_year</th>\n      <th>model</th>\n      <th>condition</th>\n      <th>cylinders</th>\n      <th>fuel</th>\n      <th>odometer</th>\n      <th>transmission</th>\n      <th>type</th>\n      <th>paint_color</th>\n      <th>is_4wd</th>\n      <th>date_posted</th>\n      <th>days_listed</th>\n      <th>ad_placed</th>\n    </tr>\n  </thead>\n  <tbody>\n    <tr>\n      <th>0</th>\n      <td>9400</td>\n      <td>2011</td>\n      <td>bmw x5</td>\n      <td>good</td>\n      <td>6</td>\n      <td>gas</td>\n      <td>145000</td>\n      <td>automatic</td>\n      <td>SUV</td>\n      <td>N/A</td>\n      <td>1</td>\n      <td>23/06/18</td>\n      <td>19</td>\n      <td>Saturday June 2018</td>\n    </tr>\n    <tr>\n      <th>1</th>\n      <td>25500</td>\n      <td>2009</td>\n      <td>ford f-150</td>\n      <td>good</td>\n      <td>6</td>\n      <td>gas</td>\n      <td>88705</td>\n      <td>automatic</td>\n      <td>pickup</td>\n      <td>white</td>\n      <td>1</td>\n      <td>19/10/18</td>\n      <td>50</td>\n      <td>Friday October 2018</td>\n    </tr>\n    <tr>\n      <th>2</th>\n      <td>5500</td>\n      <td>2013</td>\n      <td>hyundai sonata</td>\n      <td>like new</td>\n      <td>4</td>\n      <td>gas</td>\n      <td>110000</td>\n      <td>automatic</td>\n      <td>sedan</td>\n      <td>red</td>\n      <td>0</td>\n      <td>07/02/19</td>\n      <td>79</td>\n      <td>Tuesday July 2019</td>\n    </tr>\n    <tr>\n      <th>3</th>\n      <td>1500</td>\n      <td>2003</td>\n      <td>ford f-150</td>\n      <td>fair</td>\n      <td>8</td>\n      <td>gas</td>\n      <td>162071</td>\n      <td>automatic</td>\n      <td>pickup</td>\n      <td>N/A</td>\n      <td>0</td>\n      <td>22/03/19</td>\n      <td>9</td>\n      <td>Friday March 2019</td>\n    </tr>\n    <tr>\n      <th>4</th>\n      <td>14900</td>\n      <td>2017</td>\n      <td>chrysler 200</td>\n      <td>excellent</td>\n      <td>4</td>\n      <td>gas</td>\n      <td>80903</td>\n      <td>automatic</td>\n      <td>sedan</td>\n      <td>black</td>\n      <td>0</td>\n      <td>02/04/19</td>\n      <td>28</td>\n      <td>Monday February 2019</td>\n    </tr>\n    <tr>\n      <th>...</th>\n      <td>...</td>\n      <td>...</td>\n      <td>...</td>\n      <td>...</td>\n      <td>...</td>\n      <td>...</td>\n      <td>...</td>\n      <td>...</td>\n      <td>...</td>\n      <td>...</td>\n      <td>...</td>\n      <td>...</td>\n      <td>...</td>\n      <td>...</td>\n    </tr>\n    <tr>\n      <th>51520</th>\n      <td>9249</td>\n      <td>2013</td>\n      <td>nissan maxima</td>\n      <td>like new</td>\n      <td>6</td>\n      <td>gas</td>\n      <td>88136</td>\n      <td>automatic</td>\n      <td>sedan</td>\n      <td>black</td>\n      <td>0</td>\n      <td>03/10/18</td>\n      <td>37</td>\n      <td>Saturday March 2018</td>\n    </tr>\n    <tr>\n      <th>51521</th>\n      <td>2700</td>\n      <td>2002</td>\n      <td>honda civic</td>\n      <td>salvage</td>\n      <td>4</td>\n      <td>gas</td>\n      <td>181500</td>\n      <td>automatic</td>\n      <td>sedan</td>\n      <td>white</td>\n      <td>0</td>\n      <td>14/11/18</td>\n      <td>22</td>\n      <td>Wednesday November 2018</td>\n    </tr>\n    <tr>\n      <th>51522</th>\n      <td>3950</td>\n      <td>2009</td>\n      <td>hyundai sonata</td>\n      <td>excellent</td>\n      <td>4</td>\n      <td>gas</td>\n      <td>128000</td>\n      <td>automatic</td>\n      <td>sedan</td>\n      <td>blue</td>\n      <td>0</td>\n      <td>15/11/18</td>\n      <td>32</td>\n      <td>Thursday November 2018</td>\n    </tr>\n    <tr>\n      <th>51523</th>\n      <td>7455</td>\n      <td>2013</td>\n      <td>toyota corolla</td>\n      <td>good</td>\n      <td>4</td>\n      <td>gas</td>\n      <td>139573</td>\n      <td>automatic</td>\n      <td>sedan</td>\n      <td>black</td>\n      <td>0</td>\n      <td>02/07/18</td>\n      <td>71</td>\n      <td>Wednesday February 2018</td>\n    </tr>\n    <tr>\n      <th>51524</th>\n      <td>6300</td>\n      <td>2014</td>\n      <td>nissan altima</td>\n      <td>good</td>\n      <td>4</td>\n      <td>gas</td>\n      <td>93699</td>\n      <td>automatic</td>\n      <td>sedan</td>\n      <td>N/A</td>\n      <td>0</td>\n      <td>05/06/18</td>\n      <td>10</td>\n      <td>Sunday May 2018</td>\n    </tr>\n  </tbody>\n</table>\n<p>51525 rows × 14 columns</p>\n</div>"
     },
     "metadata": {},
     "execution_count": 16
    }
   ],
   "source": [
    "cars['ad_placed'] = weekday.str.cat(month, sep=' ')\n",
    "cars['ad_placed'] = cars['ad_placed'].str.cat(year_str, sep=' ')\n",
    "cars\n",
    "# day of the week, month and year converted to strings and ad_placed column created with the required data"
   ]
  },
  {
   "source": [
    "## The vehicle's age (in years) when the ad was placed"
   ],
   "cell_type": "markdown",
   "metadata": {}
  },
  {
   "cell_type": "code",
   "execution_count": 17,
   "metadata": {},
   "outputs": [],
   "source": [
    "cars['car_age'] = year_num - cars['model_year']\n",
    "#a new column with the vehicle's age was created"
   ]
  },
  {
   "source": [
    "### The vehicle's average mileage per year"
   ],
   "cell_type": "markdown",
   "metadata": {}
  },
  {
   "cell_type": "code",
   "execution_count": 18,
   "metadata": {},
   "outputs": [],
   "source": [
    "cars['mileage'] = (cars['odometer'] / cars['car_age']).round(0)\n",
    "#new column with the vehicle's average mileage per year was created\n"
   ]
  },
  {
   "cell_type": "code",
   "execution_count": 19,
   "metadata": {},
   "outputs": [],
   "source": [
    "# need to replace mileage inf values with odometer values\n",
    "cars['mileage'] = np.where(cars['car_age'] == 0,cars.odometer, cars.mileage )"
   ]
  },
  {
   "source": [
    "### In the condition column, replace string values with a numeric scale:\n",
    "### new = 5\n",
    "### like new = 4\n",
    "### excellent = 3\n",
    "### good = 2\n",
    "### fair = 1\n",
    "### salvage = 0"
   ],
   "cell_type": "markdown",
   "metadata": {}
  },
  {
   "cell_type": "code",
   "execution_count": 20,
   "metadata": {},
   "outputs": [
    {
     "output_type": "execute_result",
     "data": {
      "text/plain": [
       "3    24773\n",
       "2    20145\n",
       "5     4885\n",
       "1     1607\n",
       "0      115\n",
       "Name: condition, dtype: int64"
      ]
     },
     "metadata": {},
     "execution_count": 20
    }
   ],
   "source": [
    "def num_condition(condition):\n",
    "    if 'new' in condition:\n",
    "        return 5 \n",
    "    if 'like new' in condition:\n",
    "        return 4\n",
    "    if 'excellent' in condition:\n",
    "        return 3\n",
    "    if 'good' in condition:\n",
    "        return 2\n",
    "    if 'fair' in condition:\n",
    "        return 1\n",
    "    elif 'salvage' in condition:\n",
    "        return 0\n",
    "    else:\n",
    "        return 'Not Applicable' # in case of an outlier\n",
    "\n",
    "cars['condition'] = cars['condition'].apply(num_condition)\n",
    "cars['condition'].value_counts() # checks if there is any outliner"
   ]
  },
  {
   "cell_type": "code",
   "execution_count": 21,
   "metadata": {},
   "outputs": [
    {
     "output_type": "execute_result",
     "data": {
      "text/plain": [
       "price           0\n",
       "model_year      0\n",
       "model           0\n",
       "condition       0\n",
       "cylinders       0\n",
       "fuel            0\n",
       "odometer        0\n",
       "transmission    0\n",
       "type            0\n",
       "paint_color     0\n",
       "is_4wd          0\n",
       "date_posted     0\n",
       "days_listed     0\n",
       "ad_placed       0\n",
       "car_age         0\n",
       "mileage         0\n",
       "dtype: int64"
      ]
     },
     "metadata": {},
     "execution_count": 21
    }
   ],
   "source": [
    "cars.isnull().sum() #checking for new missing values after the creation and modification of 3 columns."
   ]
  },
  {
   "cell_type": "code",
   "execution_count": 22,
   "metadata": {},
   "outputs": [],
   "source": [
    "cars[cars.isna().any(axis=1)] #checking the rows where missing values appears\n",
    "cars['mileage'].fillna(value=0, inplace=True) #missing values replaced by 0.\n",
    "#missing values that resulted from the creation of mileage column. model year is the same as the year of the placed ad and the odometer is 0. Brand new vehicle, therefore no mileage value."
   ]
  },
  {
   "source": [
    "## Step 4. Carry out exploratory data analysis, following the instructions below:\n"
   ],
   "cell_type": "markdown",
   "metadata": {}
  },
  {
   "source": [
    "### - Study the following parameters: price, vehicle's age when the ad was placed, mileage, number of cylinders, and condition. Plot histograms for each of these parameters. Study how outliers affect the form and readability of the histograms.\n",
    "\n",
    "### - Determine the upper limits of outliers, remove the outliers and store them in a separate DataFrame, and continue your work with the filtered data."
   ],
   "cell_type": "markdown",
   "metadata": {}
  },
  {
   "cell_type": "code",
   "execution_count": 23,
   "metadata": {},
   "outputs": [
    {
     "output_type": "display_data",
     "data": {
      "text/plain": "<Figure size 432x288 with 1 Axes>",
      "image/png": "[encoded data removed]"
     },
     "metadata": {
      "needs_background": "light"
     }
    },
    {
     "output_type": "display_data",
     "data": {
      "text/plain": "<Figure size 432x288 with 1 Axes>",
      "image/png": "[encoded data removed]"
     },
     "metadata": {
      "needs_background": "light"
     }
    }
   ],
   "source": [
    "cars.hist('price') # raw histogram of price column\n",
    "\n",
    "price_outliers = pd.DataFrame(cars.query('price > 65000')) #dataframe with outliers was created\n",
    "\n",
    "price_filtered = (cars #filtered histogram\n",
    ".query('price <= 65000')\n",
    ".hist('price'))"
   ]
  },
  {
   "cell_type": "code",
   "execution_count": 24,
   "metadata": {},
   "outputs": [
    {
     "output_type": "execute_result",
     "data": {
      "text/plain": [
       "array([[<AxesSubplot:title={'center':'car_age'}>]], dtype=object)"
      ]
     },
     "metadata": {},
     "execution_count": 24
    },
    {
     "output_type": "display_data",
     "data": {
      "text/plain": "<Figure size 432x288 with 1 Axes>",
      "image/png": "[encoded data removed]"
     },
     "metadata": {
      "needs_background": "light"
     }
    },
    {
     "output_type": "display_data",
     "data": {
      "text/plain": "<Figure size 432x288 with 1 Axes>",
      "image/png": "[encoded data removed]"
     },
     "metadata": {
      "needs_background": "light"
     }
    }
   ],
   "source": [
    "cars.hist('car_age') #raw histogram\n",
    "\n",
    "age_outliers = pd.DataFrame(cars.query('car_age > 70')) #dataframe with outliers was created\n",
    "\n",
    "age_filtered = (cars #filtered histogram\n",
    ".query('car_age <= 70')\n",
    ".hist('car_age'))\n",
    "age_filtered"
   ]
  },
  {
   "cell_type": "code",
   "execution_count": 25,
   "metadata": {},
   "outputs": [
    {
     "output_type": "display_data",
     "data": {
      "text/plain": "<Figure size 432x288 with 1 Axes>",
      "image/png": "[encoded data removed]"
     },
     "metadata": {
      "needs_background": "light"
     }
    },
    {
     "output_type": "display_data",
     "data": {
      "text/plain": "<Figure size 432x288 with 1 Axes>",
      "image/png": "[encoded data removed]"
     },
     "metadata": {
      "needs_background": "light"
     }
    }
   ],
   "source": [
    "cars.hist('mileage')\n",
    "\n",
    "mileage_outliers = pd.DataFrame(cars.query('mileage > 130000')) #dataframe with outliers was created\n",
    "\n",
    "mileage_filtered = (cars #filtered histogram\n",
    ".query('mileage <= 130000')\n",
    ".hist('mileage'))\n"
   ]
  },
  {
   "cell_type": "code",
   "execution_count": 26,
   "metadata": {},
   "outputs": [
    {
     "output_type": "display_data",
     "data": {
      "text/plain": "<Figure size 432x288 with 1 Axes>",
      "image/png": "[encoded data removed]"
     },
     "metadata": {
      "needs_background": "light"
     }
    },
    {
     "output_type": "display_data",
     "data": {
      "text/plain": "<Figure size 432x288 with 1 Axes>",
      "image/png": "[encoded data removed]"
     },
     "metadata": {
      "needs_background": "light"
     }
    }
   ],
   "source": [
    "cars.hist('cylinders')\n",
    "\n",
    "cylinders_outliers = pd.DataFrame(cars.query('cylinders == 2 | cylinders == 3 | cylinders == 5 | cylinders == 7 | cylinders == 9 | cylinders > 10'))\n",
    "\n",
    "cylinders_filtered = (cars\n",
    ".query('cylinders == 4 | cylinders == 6 | cylinders == 8 | cylinders == 10')\n",
    ".hist('cylinders')\n",
    ")"
   ]
  },
  {
   "cell_type": "code",
   "execution_count": 27,
   "metadata": {},
   "outputs": [
    {
     "output_type": "execute_result",
     "data": {
      "text/plain": [
       "array([[<AxesSubplot:title={'center':'condition'}>]], dtype=object)"
      ]
     },
     "metadata": {},
     "execution_count": 27
    },
    {
     "output_type": "display_data",
     "data": {
      "text/plain": "<Figure size 432x288 with 1 Axes>",
      "image/png": "[encoded data removed]"
     },
     "metadata": {
      "needs_background": "light"
     }
    }
   ],
   "source": [
    "cars.hist('condition')"
   ]
  },
  {
   "cell_type": "code",
   "execution_count": 1,
   "metadata": {},
   "outputs": [
    {
     "output_type": "error",
     "ename": "NameError",
     "evalue": "name 'cars' is not defined",
     "traceback": [
      "\u001b[0;31m---------------------------------------------------------------------------\u001b[0m",
      "\u001b[0;31mNameError\u001b[0m                                 Traceback (most recent call last)",
      "\u001b[0;32m<ipython-input-1-81a714c53143>\u001b[0m in \u001b[0;36m<module>\u001b[0;34m\u001b[0m\n\u001b[0;32m----> 1\u001b[0;31m \u001b[0ma\u001b[0m \u001b[0;34m=\u001b[0m \u001b[0mcars\u001b[0m\u001b[0;34m.\u001b[0m\u001b[0mquery\u001b[0m\u001b[0;34m(\u001b[0m\u001b[0;34m'condition > 2 & condition < 4'\u001b[0m\u001b[0;34m)\u001b[0m\u001b[0;34m\u001b[0m\u001b[0;34m\u001b[0m\u001b[0m\n\u001b[0m\u001b[1;32m      2\u001b[0m \u001b[0mcondition_outliers\u001b[0m \u001b[0;34m=\u001b[0m \u001b[0mpd\u001b[0m\u001b[0;34m.\u001b[0m\u001b[0mDataFrame\u001b[0m\u001b[0;34m(\u001b[0m\u001b[0ma\u001b[0m\u001b[0;34m)\u001b[0m \u001b[0;31m#dataframe with outliers was created\u001b[0m\u001b[0;34m\u001b[0m\u001b[0;34m\u001b[0m\u001b[0m\n\u001b[1;32m      3\u001b[0m \u001b[0mcondition_outliers\u001b[0m\u001b[0;34m\u001b[0m\u001b[0;34m\u001b[0m\u001b[0m\n\u001b[1;32m      4\u001b[0m \u001b[0;31m#cars.query('condition != @a')\u001b[0m\u001b[0;34m\u001b[0m\u001b[0;34m\u001b[0m\u001b[0;34m\u001b[0m\u001b[0m\n",
      "\u001b[0;31mNameError\u001b[0m: name 'cars' is not defined"
     ]
    }
   ],
   "source": [
    "a = cars.query('condition > 2 & condition < 4')\n",
    "condition_outliers = pd.DataFrame(a) #dataframe with outliers was created\n",
    "condition_outliers\n",
    "#cars.query('condition != @a')\n"
   ]
  },
  {
   "cell_type": "code",
   "execution_count": null,
   "metadata": {},
   "outputs": [],
   "source": []
  }
 ]
}